{
  "nbformat": 4,
  "nbformat_minor": 0,
  "metadata": {
    "colab": {
      "name": "Notebook TCC PUC.ipynb",
      "provenance": [],
      "authorship_tag": "ABX9TyNNngXng9DwPu1yASED4Oz/",
      "include_colab_link": true
    },
    "kernelspec": {
      "name": "python3",
      "display_name": "Python 3"
    }
  },
  "cells": [
    {
      "cell_type": "markdown",
      "metadata": {
        "id": "view-in-github",
        "colab_type": "text"
      },
      "source": [
        "<a href=\"https://colab.research.google.com/github/mmbs1989/TCC-PUCMINAS/blob/main/Notebook_TCC_PUC.ipynb\" target=\"_parent\"><img src=\"https://colab.research.google.com/assets/colab-badge.svg\" alt=\"Open In Colab\"/></a>"
      ]
    },
    {
      "cell_type": "markdown",
      "metadata": {
        "id": "U5HVhYn1CDAG"
      },
      "source": [
        "<h1><center>PUC MG - Pontifícia Universidade Católica de Minas Gerais</center></h1>\r\n",
        "\r\n",
        "<h2><center>Pós-Graduação em Ciência de Dados e Big Data</center></h2>\r\n",
        "\r\n",
        "<h3><center>TRABALHO DE CONCLUSÃO DE CURSO</center><br>\r\n",
        "TÍTULO: MODELOS PREDITIVOS DA ARRECADAÇÃO FEDERAL E DE VARIÁVEIS MACROECONÔMICAS UTILIZANDO SÉRIES TEMPORAIS<br>\r\n",
        "<br>\r\n",
        "ALUNO: Michel Muglia Barbosa Santos</h3>\r\n"
      ]
    },
    {
      "cell_type": "code",
      "metadata": {
        "id": "Qpn5t-yYYUfC",
        "colab": {
          "base_uri": "https://localhost:8080/"
        },
        "outputId": "5d2fdce0-3d83-4bb3-fb4a-7d509e232b4c"
      },
      "source": [
        "pip install pmdarima"
      ],
      "execution_count": 1,
      "outputs": [
        {
          "output_type": "stream",
          "text": [
            "Collecting pmdarima\n",
            "\u001b[?25l  Downloading https://files.pythonhosted.org/packages/c9/d7/61af1897449638822f97c8b43ef0c2fce2ec68a6cda9a43ebbbdd12b967c/pmdarima-1.8.0-cp36-cp36m-manylinux1_x86_64.whl (1.5MB)\n",
            "\u001b[K     |████████████████████████████████| 1.5MB 7.3MB/s \n",
            "\u001b[?25hRequirement already satisfied: scipy>=1.3.2 in /usr/local/lib/python3.6/dist-packages (from pmdarima) (1.4.1)\n",
            "Requirement already satisfied: urllib3 in /usr/local/lib/python3.6/dist-packages (from pmdarima) (1.24.3)\n",
            "Requirement already satisfied: setuptools!=50.0.0,>=38.6.0 in /usr/local/lib/python3.6/dist-packages (from pmdarima) (53.0.0)\n",
            "Requirement already satisfied: numpy>=1.17.3 in /usr/local/lib/python3.6/dist-packages (from pmdarima) (1.19.5)\n",
            "Requirement already satisfied: joblib>=0.11 in /usr/local/lib/python3.6/dist-packages (from pmdarima) (1.0.0)\n",
            "Collecting statsmodels!=0.12.0,>=0.11\n",
            "\u001b[?25l  Downloading https://files.pythonhosted.org/packages/0d/7b/c17815648dc31396af865b9c6627cc3f95705954e30f61106795361c39ee/statsmodels-0.12.2-cp36-cp36m-manylinux1_x86_64.whl (9.5MB)\n",
            "\u001b[K     |████████████████████████████████| 9.5MB 27.6MB/s \n",
            "\u001b[?25hRequirement already satisfied: scikit-learn>=0.22 in /usr/local/lib/python3.6/dist-packages (from pmdarima) (0.22.2.post1)\n",
            "Requirement already satisfied: pandas>=0.19 in /usr/local/lib/python3.6/dist-packages (from pmdarima) (1.1.5)\n",
            "Collecting Cython<0.29.18,>=0.29\n",
            "\u001b[?25l  Downloading https://files.pythonhosted.org/packages/e7/d7/510ddef0248f3e1e91f9cc7e31c0f35f8954d0af92c5c3fd4c853e859ebe/Cython-0.29.17-cp36-cp36m-manylinux1_x86_64.whl (2.1MB)\n",
            "\u001b[K     |████████████████████████████████| 2.1MB 44.1MB/s \n",
            "\u001b[?25hRequirement already satisfied: patsy>=0.5 in /usr/local/lib/python3.6/dist-packages (from statsmodels!=0.12.0,>=0.11->pmdarima) (0.5.1)\n",
            "Requirement already satisfied: python-dateutil>=2.7.3 in /usr/local/lib/python3.6/dist-packages (from pandas>=0.19->pmdarima) (2.8.1)\n",
            "Requirement already satisfied: pytz>=2017.2 in /usr/local/lib/python3.6/dist-packages (from pandas>=0.19->pmdarima) (2018.9)\n",
            "Requirement already satisfied: six in /usr/local/lib/python3.6/dist-packages (from patsy>=0.5->statsmodels!=0.12.0,>=0.11->pmdarima) (1.15.0)\n",
            "Installing collected packages: statsmodels, Cython, pmdarima\n",
            "  Found existing installation: statsmodels 0.10.2\n",
            "    Uninstalling statsmodels-0.10.2:\n",
            "      Successfully uninstalled statsmodels-0.10.2\n",
            "  Found existing installation: Cython 0.29.21\n",
            "    Uninstalling Cython-0.29.21:\n",
            "      Successfully uninstalled Cython-0.29.21\n",
            "Successfully installed Cython-0.29.17 pmdarima-1.8.0 statsmodels-0.12.2\n"
          ],
          "name": "stdout"
        }
      ]
    },
    {
      "cell_type": "code",
      "metadata": {
        "id": "Dh-pGCGfYN-n"
      },
      "source": [
        "import numpy as np\n",
        "import pandas as pd\n",
        "from statsmodels.tsa.statespace.sarimax import SARIMAX\n",
        "from statsmodels.graphics.tsaplots import plot_acf,plot_pacf \n",
        "from statsmodels.tsa.seasonal import seasonal_decompose \n",
        "from pmdarima import auto_arima                        \n",
        "from sklearn.metrics import mean_squared_error\n",
        "from statsmodels.tools.eval_measures import rmse\n",
        "import warnings\n",
        "warnings.filterwarnings(\"ignore\")"
      ],
      "execution_count": 2,
      "outputs": []
    },
    {
      "cell_type": "markdown",
      "metadata": {
        "id": "wdZHDS1jYN-s"
      },
      "source": [
        "\r\n",
        "\r\n",
        "## **CARREGAMENTO DOS DADOS E ANÁLISE EXPLORATÓRIA DA ARRECADAÇÃO FEDERAL**\r\n",
        "\r\n",
        "\r\n"
      ]
    },
    {
      "cell_type": "code",
      "metadata": {
        "id": "fmpsMbXmYN-s"
      },
      "source": [
        "# Carregar bibliotecas e ler os arquivos\r\n",
        "import pandas as pd \r\n",
        "dfarrec = pd.read_csv(\"https://raw.githubusercontent.com/mmbs1989/DSWP-Aluno/main/dadostccdata.csv\")\r\n",
        "dfa = pd.read_csv(\"https://raw.githubusercontent.com/mmbs1989/DSWP-Aluno/main/dadostcca.csv\")"
      ],
      "execution_count": 3,
      "outputs": []
    },
    {
      "cell_type": "code",
      "metadata": {
        "colab": {
          "base_uri": "https://localhost:8080/",
          "height": 204
        },
        "id": "DjHJXx-mmAjA",
        "outputId": "2f3d2581-ce6f-4151-c09e-d14e1c51dd36"
      },
      "source": [
        "# Juntar as tabelas carregadas e definir o nome da coluna\r\n",
        "dfarrec['arrec'] = dfa['a']\r\n",
        "dfarrec.head()"
      ],
      "execution_count": 4,
      "outputs": [
        {
          "output_type": "execute_result",
          "data": {
            "text/html": [
              "<div>\n",
              "<style scoped>\n",
              "    .dataframe tbody tr th:only-of-type {\n",
              "        vertical-align: middle;\n",
              "    }\n",
              "\n",
              "    .dataframe tbody tr th {\n",
              "        vertical-align: top;\n",
              "    }\n",
              "\n",
              "    .dataframe thead th {\n",
              "        text-align: right;\n",
              "    }\n",
              "</style>\n",
              "<table border=\"1\" class=\"dataframe\">\n",
              "  <thead>\n",
              "    <tr style=\"text-align: right;\">\n",
              "      <th></th>\n",
              "      <th>Data</th>\n",
              "      <th>arrec</th>\n",
              "    </tr>\n",
              "  </thead>\n",
              "  <tbody>\n",
              "    <tr>\n",
              "      <th>0</th>\n",
              "      <td>1994-01</td>\n",
              "      <td>4836</td>\n",
              "    </tr>\n",
              "    <tr>\n",
              "      <th>1</th>\n",
              "      <td>1994-02</td>\n",
              "      <td>4343</td>\n",
              "    </tr>\n",
              "    <tr>\n",
              "      <th>2</th>\n",
              "      <td>1994-03</td>\n",
              "      <td>4418</td>\n",
              "    </tr>\n",
              "    <tr>\n",
              "      <th>3</th>\n",
              "      <td>1994-04</td>\n",
              "      <td>5186</td>\n",
              "    </tr>\n",
              "    <tr>\n",
              "      <th>4</th>\n",
              "      <td>1994-05</td>\n",
              "      <td>4732</td>\n",
              "    </tr>\n",
              "  </tbody>\n",
              "</table>\n",
              "</div>"
            ],
            "text/plain": [
              "      Data  arrec\n",
              "0  1994-01   4836\n",
              "1  1994-02   4343\n",
              "2  1994-03   4418\n",
              "3  1994-04   5186\n",
              "4  1994-05   4732"
            ]
          },
          "metadata": {
            "tags": []
          },
          "execution_count": 4
        }
      ]
    },
    {
      "cell_type": "code",
      "metadata": {
        "id": "uBHBhgiMnO0w",
        "colab": {
          "base_uri": "https://localhost:8080/",
          "height": 204
        },
        "outputId": "141c84be-41b8-4e70-c33d-a58540274ae6"
      },
      "source": [
        "dfarrec.tail()"
      ],
      "execution_count": 5,
      "outputs": [
        {
          "output_type": "execute_result",
          "data": {
            "text/html": [
              "<div>\n",
              "<style scoped>\n",
              "    .dataframe tbody tr th:only-of-type {\n",
              "        vertical-align: middle;\n",
              "    }\n",
              "\n",
              "    .dataframe tbody tr th {\n",
              "        vertical-align: top;\n",
              "    }\n",
              "\n",
              "    .dataframe thead th {\n",
              "        text-align: right;\n",
              "    }\n",
              "</style>\n",
              "<table border=\"1\" class=\"dataframe\">\n",
              "  <thead>\n",
              "    <tr style=\"text-align: right;\">\n",
              "      <th></th>\n",
              "      <th>Data</th>\n",
              "      <th>arrec</th>\n",
              "    </tr>\n",
              "  </thead>\n",
              "  <tbody>\n",
              "    <tr>\n",
              "      <th>315</th>\n",
              "      <td>2020-04</td>\n",
              "      <td>101154</td>\n",
              "    </tr>\n",
              "    <tr>\n",
              "      <th>316</th>\n",
              "      <td>2020-05</td>\n",
              "      <td>77415</td>\n",
              "    </tr>\n",
              "    <tr>\n",
              "      <th>317</th>\n",
              "      <td>2020-06</td>\n",
              "      <td>86258</td>\n",
              "    </tr>\n",
              "    <tr>\n",
              "      <th>318</th>\n",
              "      <td>2020-07</td>\n",
              "      <td>115990</td>\n",
              "    </tr>\n",
              "    <tr>\n",
              "      <th>319</th>\n",
              "      <td>2020-08</td>\n",
              "      <td>124505</td>\n",
              "    </tr>\n",
              "  </tbody>\n",
              "</table>\n",
              "</div>"
            ],
            "text/plain": [
              "        Data   arrec\n",
              "315  2020-04  101154\n",
              "316  2020-05   77415\n",
              "317  2020-06   86258\n",
              "318  2020-07  115990\n",
              "319  2020-08  124505"
            ]
          },
          "metadata": {
            "tags": []
          },
          "execution_count": 5
        }
      ]
    },
    {
      "cell_type": "code",
      "metadata": {
        "id": "h6Vwd0RynIhW",
        "colab": {
          "base_uri": "https://localhost:8080/",
          "height": 204
        },
        "outputId": "cba6c7aa-c34e-4970-dc5e-71e394d44da4"
      },
      "source": [
        "# Retirar as linhas que não serão utilizadas na análise\r\n",
        "dfarrec = dfarrec.drop(dfarrec.index[314:])\r\n",
        "dfarrec.tail()"
      ],
      "execution_count": 6,
      "outputs": [
        {
          "output_type": "execute_result",
          "data": {
            "text/html": [
              "<div>\n",
              "<style scoped>\n",
              "    .dataframe tbody tr th:only-of-type {\n",
              "        vertical-align: middle;\n",
              "    }\n",
              "\n",
              "    .dataframe tbody tr th {\n",
              "        vertical-align: top;\n",
              "    }\n",
              "\n",
              "    .dataframe thead th {\n",
              "        text-align: right;\n",
              "    }\n",
              "</style>\n",
              "<table border=\"1\" class=\"dataframe\">\n",
              "  <thead>\n",
              "    <tr style=\"text-align: right;\">\n",
              "      <th></th>\n",
              "      <th>Data</th>\n",
              "      <th>arrec</th>\n",
              "    </tr>\n",
              "  </thead>\n",
              "  <tbody>\n",
              "    <tr>\n",
              "      <th>309</th>\n",
              "      <td>2019-10</td>\n",
              "      <td>135202</td>\n",
              "    </tr>\n",
              "    <tr>\n",
              "      <th>310</th>\n",
              "      <td>2019-11</td>\n",
              "      <td>125161</td>\n",
              "    </tr>\n",
              "    <tr>\n",
              "      <th>311</th>\n",
              "      <td>2019-12</td>\n",
              "      <td>147501</td>\n",
              "    </tr>\n",
              "    <tr>\n",
              "      <th>312</th>\n",
              "      <td>2020-01</td>\n",
              "      <td>174991</td>\n",
              "    </tr>\n",
              "    <tr>\n",
              "      <th>313</th>\n",
              "      <td>2020-02</td>\n",
              "      <td>116430</td>\n",
              "    </tr>\n",
              "  </tbody>\n",
              "</table>\n",
              "</div>"
            ],
            "text/plain": [
              "        Data   arrec\n",
              "309  2019-10  135202\n",
              "310  2019-11  125161\n",
              "311  2019-12  147501\n",
              "312  2020-01  174991\n",
              "313  2020-02  116430"
            ]
          },
          "metadata": {
            "tags": []
          },
          "execution_count": 6
        }
      ]
    },
    {
      "cell_type": "code",
      "metadata": {
        "id": "CZy9UTVOmzJS"
      },
      "source": [
        "# Transformar o tipo das colunas e definir o index\r\n",
        "dfarrec['arrec'] = pd.to_numeric(dfarrec['arrec'])\r\n",
        "dfarrec['Data'] = pd.to_datetime(dfarrec['Data'])\r\n",
        "dfarrec.set_index('Data', inplace=True)"
      ],
      "execution_count": 7,
      "outputs": []
    },
    {
      "cell_type": "code",
      "metadata": {
        "id": "AvhZhdeLYN-t",
        "colab": {
          "base_uri": "https://localhost:8080/",
          "height": 235
        },
        "outputId": "84271477-6716-45c4-f3b8-6456d2e9525f"
      },
      "source": [
        "dfarrec.head()"
      ],
      "execution_count": 8,
      "outputs": [
        {
          "output_type": "execute_result",
          "data": {
            "text/html": [
              "<div>\n",
              "<style scoped>\n",
              "    .dataframe tbody tr th:only-of-type {\n",
              "        vertical-align: middle;\n",
              "    }\n",
              "\n",
              "    .dataframe tbody tr th {\n",
              "        vertical-align: top;\n",
              "    }\n",
              "\n",
              "    .dataframe thead th {\n",
              "        text-align: right;\n",
              "    }\n",
              "</style>\n",
              "<table border=\"1\" class=\"dataframe\">\n",
              "  <thead>\n",
              "    <tr style=\"text-align: right;\">\n",
              "      <th></th>\n",
              "      <th>arrec</th>\n",
              "    </tr>\n",
              "    <tr>\n",
              "      <th>Data</th>\n",
              "      <th></th>\n",
              "    </tr>\n",
              "  </thead>\n",
              "  <tbody>\n",
              "    <tr>\n",
              "      <th>1994-01-01</th>\n",
              "      <td>4836</td>\n",
              "    </tr>\n",
              "    <tr>\n",
              "      <th>1994-02-01</th>\n",
              "      <td>4343</td>\n",
              "    </tr>\n",
              "    <tr>\n",
              "      <th>1994-03-01</th>\n",
              "      <td>4418</td>\n",
              "    </tr>\n",
              "    <tr>\n",
              "      <th>1994-04-01</th>\n",
              "      <td>5186</td>\n",
              "    </tr>\n",
              "    <tr>\n",
              "      <th>1994-05-01</th>\n",
              "      <td>4732</td>\n",
              "    </tr>\n",
              "  </tbody>\n",
              "</table>\n",
              "</div>"
            ],
            "text/plain": [
              "            arrec\n",
              "Data             \n",
              "1994-01-01   4836\n",
              "1994-02-01   4343\n",
              "1994-03-01   4418\n",
              "1994-04-01   5186\n",
              "1994-05-01   4732"
            ]
          },
          "metadata": {
            "tags": []
          },
          "execution_count": 8
        }
      ]
    },
    {
      "cell_type": "code",
      "metadata": {
        "id": "r1ZkiOM2wO9w",
        "colab": {
          "base_uri": "https://localhost:8080/",
          "height": 297
        },
        "outputId": "06781849-8a77-442e-8c51-2c188a97fdfb"
      },
      "source": [
        "# Estatísitica descritiva dos valores de arrecadação\r\n",
        "dfarrec.describe()"
      ],
      "execution_count": null,
      "outputs": [
        {
          "output_type": "execute_result",
          "data": {
            "text/html": [
              "<div>\n",
              "<style scoped>\n",
              "    .dataframe tbody tr th:only-of-type {\n",
              "        vertical-align: middle;\n",
              "    }\n",
              "\n",
              "    .dataframe tbody tr th {\n",
              "        vertical-align: top;\n",
              "    }\n",
              "\n",
              "    .dataframe thead th {\n",
              "        text-align: right;\n",
              "    }\n",
              "</style>\n",
              "<table border=\"1\" class=\"dataframe\">\n",
              "  <thead>\n",
              "    <tr style=\"text-align: right;\">\n",
              "      <th></th>\n",
              "      <th>arrec</th>\n",
              "    </tr>\n",
              "  </thead>\n",
              "  <tbody>\n",
              "    <tr>\n",
              "      <th>count</th>\n",
              "      <td>314.000000</td>\n",
              "    </tr>\n",
              "    <tr>\n",
              "      <th>mean</th>\n",
              "      <td>54008.878981</td>\n",
              "    </tr>\n",
              "    <tr>\n",
              "      <th>std</th>\n",
              "      <td>42247.577509</td>\n",
              "    </tr>\n",
              "    <tr>\n",
              "      <th>min</th>\n",
              "      <td>4343.000000</td>\n",
              "    </tr>\n",
              "    <tr>\n",
              "      <th>25%</th>\n",
              "      <td>15014.500000</td>\n",
              "    </tr>\n",
              "    <tr>\n",
              "      <th>50%</th>\n",
              "      <td>45332.000000</td>\n",
              "    </tr>\n",
              "    <tr>\n",
              "      <th>75%</th>\n",
              "      <td>91308.000000</td>\n",
              "    </tr>\n",
              "    <tr>\n",
              "      <th>max</th>\n",
              "      <td>174991.000000</td>\n",
              "    </tr>\n",
              "  </tbody>\n",
              "</table>\n",
              "</div>"
            ],
            "text/plain": [
              "               arrec\n",
              "count     314.000000\n",
              "mean    54008.878981\n",
              "std     42247.577509\n",
              "min      4343.000000\n",
              "25%     15014.500000\n",
              "50%     45332.000000\n",
              "75%     91308.000000\n",
              "max    174991.000000"
            ]
          },
          "metadata": {
            "tags": []
          },
          "execution_count": 9
        }
      ]
    },
    {
      "cell_type": "code",
      "metadata": {
        "colab": {
          "base_uri": "https://localhost:8080/"
        },
        "id": "KQrzmF-dy_XW",
        "outputId": "9c3864c0-12ee-44e4-d14d-909b67ace751"
      },
      "source": [
        "# Confirmar se há valores nulos\r\n",
        "dfarrec.isnull().sum()"
      ],
      "execution_count": null,
      "outputs": [
        {
          "output_type": "execute_result",
          "data": {
            "text/plain": [
              "arrec    0\n",
              "dtype: int64"
            ]
          },
          "metadata": {
            "tags": []
          },
          "execution_count": 10
        }
      ]
    },
    {
      "cell_type": "code",
      "metadata": {
        "colab": {
          "base_uri": "https://localhost:8080/",
          "height": 405
        },
        "id": "Ru2kycELzy1M",
        "outputId": "b8608d48-138f-4253-c823-6580deccf2a0"
      },
      "source": [
        "# Gráfico dos valores\r\n",
        "dfarrec.plot(figsize=(15,6))"
      ],
      "execution_count": 9,
      "outputs": [
        {
          "output_type": "execute_result",
          "data": {
            "text/plain": [
              "<matplotlib.axes._subplots.AxesSubplot at 0x7f6c5a2d60f0>"
            ]
          },
          "metadata": {
            "tags": []
          },
          "execution_count": 9
        },
        {
          "output_type": "display_data",
          "data": {
            "image/png": "[encoded data removed]",
            "text/plain": [
              "<Figure size 1080x432 with 1 Axes>"
            ]
          },
          "metadata": {
            "tags": [],
            "needs_background": "light"
          }
        }
      ]
    },
    {
      "cell_type": "code",
      "metadata": {
        "colab": {
          "base_uri": "https://localhost:8080/",
          "height": 299
        },
        "id": "aY8wkEHo1pJF",
        "outputId": "8693cdfd-e720-4ce9-a88c-96e2df619a2e"
      },
      "source": [
        "# Análise dos períodos de sazonalidade\r\n",
        "dfarrec.groupby(dfarrec.index.month).mean().plot(kind='bar')"
      ],
      "execution_count": 10,
      "outputs": [
        {
          "output_type": "execute_result",
          "data": {
            "text/plain": [
              "<matplotlib.axes._subplots.AxesSubplot at 0x7f6c5a1f3208>"
            ]
          },
          "metadata": {
            "tags": []
          },
          "execution_count": 10
        },
        {
          "output_type": "display_data",
          "data": {
            "image/png": "[encoded data removed]",
            "text/plain": [
              "<Figure size 432x288 with 1 Axes>"
            ]
          },
          "metadata": {
            "tags": [],
            "needs_background": "light"
          }
        }
      ]
    },
    {
      "cell_type": "markdown",
      "metadata": {
        "id": "CeA4EneB87xE"
      },
      "source": [
        "\r\n",
        "\r\n",
        "## **CARREGAMENTO DOS DADOS E ANÁLISE EXPLORATÓRIA DO PIB**\r\n",
        "\r\n",
        "\r\n"
      ]
    },
    {
      "cell_type": "code",
      "metadata": {
        "id": "cTmMx3Fk87xI"
      },
      "source": [
        "# Carregar bibliotecas e ler os arquivos\r\n",
        "import pandas as pd \r\n",
        "dfpib = pd.read_csv(\"https://raw.githubusercontent.com/mmbs1989/DSWP-Aluno/main/dadostccdata.csv\")\r\n",
        "dfp = pd.read_csv(\"https://raw.githubusercontent.com/mmbs1989/DSWP-Aluno/main/dadostccpib.csv\")"
      ],
      "execution_count": null,
      "outputs": []
    },
    {
      "cell_type": "code",
      "metadata": {
        "colab": {
          "base_uri": "https://localhost:8080/",
          "height": 204
        },
        "id": "3VLpIItI87xJ",
        "outputId": "64afde7a-13bd-460d-9422-dcbb41ee016b"
      },
      "source": [
        "# Juntar as tabelas carregadas e definir o nome da coluna\r\n",
        "dfpib['pib'] = dfp['pib']\r\n",
        "dfpib.head()"
      ],
      "execution_count": null,
      "outputs": [
        {
          "output_type": "execute_result",
          "data": {
            "text/html": [
              "<div>\n",
              "<style scoped>\n",
              "    .dataframe tbody tr th:only-of-type {\n",
              "        vertical-align: middle;\n",
              "    }\n",
              "\n",
              "    .dataframe tbody tr th {\n",
              "        vertical-align: top;\n",
              "    }\n",
              "\n",
              "    .dataframe thead th {\n",
              "        text-align: right;\n",
              "    }\n",
              "</style>\n",
              "<table border=\"1\" class=\"dataframe\">\n",
              "  <thead>\n",
              "    <tr style=\"text-align: right;\">\n",
              "      <th></th>\n",
              "      <th>Data</th>\n",
              "      <th>pib</th>\n",
              "    </tr>\n",
              "  </thead>\n",
              "  <tbody>\n",
              "    <tr>\n",
              "      <th>0</th>\n",
              "      <td>1994-01</td>\n",
              "      <td>4563</td>\n",
              "    </tr>\n",
              "    <tr>\n",
              "      <th>1</th>\n",
              "      <td>1994-02</td>\n",
              "      <td>5793</td>\n",
              "    </tr>\n",
              "    <tr>\n",
              "      <th>2</th>\n",
              "      <td>1994-03</td>\n",
              "      <td>8520</td>\n",
              "    </tr>\n",
              "    <tr>\n",
              "      <th>3</th>\n",
              "      <td>1994-04</td>\n",
              "      <td>12829</td>\n",
              "    </tr>\n",
              "    <tr>\n",
              "      <th>4</th>\n",
              "      <td>1994-05</td>\n",
              "      <td>20504</td>\n",
              "    </tr>\n",
              "  </tbody>\n",
              "</table>\n",
              "</div>"
            ],
            "text/plain": [
              "      Data    pib\n",
              "0  1994-01   4563\n",
              "1  1994-02   5793\n",
              "2  1994-03   8520\n",
              "3  1994-04  12829\n",
              "4  1994-05  20504"
            ]
          },
          "metadata": {
            "tags": []
          },
          "execution_count": 15
        }
      ]
    },
    {
      "cell_type": "code",
      "metadata": {
        "colab": {
          "base_uri": "https://localhost:8080/",
          "height": 204
        },
        "id": "R8TARoZ087xK",
        "outputId": "ca4e93d9-cf53-487b-e495-62c9ecda329c"
      },
      "source": [
        "dfpib.tail()"
      ],
      "execution_count": null,
      "outputs": [
        {
          "output_type": "execute_result",
          "data": {
            "text/html": [
              "<div>\n",
              "<style scoped>\n",
              "    .dataframe tbody tr th:only-of-type {\n",
              "        vertical-align: middle;\n",
              "    }\n",
              "\n",
              "    .dataframe tbody tr th {\n",
              "        vertical-align: top;\n",
              "    }\n",
              "\n",
              "    .dataframe thead th {\n",
              "        text-align: right;\n",
              "    }\n",
              "</style>\n",
              "<table border=\"1\" class=\"dataframe\">\n",
              "  <thead>\n",
              "    <tr style=\"text-align: right;\">\n",
              "      <th></th>\n",
              "      <th>Data</th>\n",
              "      <th>pib</th>\n",
              "    </tr>\n",
              "  </thead>\n",
              "  <tbody>\n",
              "    <tr>\n",
              "      <th>315</th>\n",
              "      <td>2020-04</td>\n",
              "      <td>543554</td>\n",
              "    </tr>\n",
              "    <tr>\n",
              "      <th>316</th>\n",
              "      <td>2020-05</td>\n",
              "      <td>560059</td>\n",
              "    </tr>\n",
              "    <tr>\n",
              "      <th>317</th>\n",
              "      <td>2020-06</td>\n",
              "      <td>605147</td>\n",
              "    </tr>\n",
              "    <tr>\n",
              "      <th>318</th>\n",
              "      <td>2020-07</td>\n",
              "      <td>631041</td>\n",
              "    </tr>\n",
              "    <tr>\n",
              "      <th>319</th>\n",
              "      <td>2020-08</td>\n",
              "      <td>629988</td>\n",
              "    </tr>\n",
              "  </tbody>\n",
              "</table>\n",
              "</div>"
            ],
            "text/plain": [
              "        Data     pib\n",
              "315  2020-04  543554\n",
              "316  2020-05  560059\n",
              "317  2020-06  605147\n",
              "318  2020-07  631041\n",
              "319  2020-08  629988"
            ]
          },
          "metadata": {
            "tags": []
          },
          "execution_count": 16
        }
      ]
    },
    {
      "cell_type": "code",
      "metadata": {
        "colab": {
          "base_uri": "https://localhost:8080/",
          "height": 204
        },
        "id": "hpLLB2Cp87xL",
        "outputId": "a90ebb15-7023-41d7-8aa6-a240311e3819"
      },
      "source": [
        "# Retirar as linhas que não serão utilizadas na análise\r\n",
        "dfpib = dfpib.drop(dfpib.index[314:])\r\n",
        "dfpib.tail()"
      ],
      "execution_count": null,
      "outputs": [
        {
          "output_type": "execute_result",
          "data": {
            "text/html": [
              "<div>\n",
              "<style scoped>\n",
              "    .dataframe tbody tr th:only-of-type {\n",
              "        vertical-align: middle;\n",
              "    }\n",
              "\n",
              "    .dataframe tbody tr th {\n",
              "        vertical-align: top;\n",
              "    }\n",
              "\n",
              "    .dataframe thead th {\n",
              "        text-align: right;\n",
              "    }\n",
              "</style>\n",
              "<table border=\"1\" class=\"dataframe\">\n",
              "  <thead>\n",
              "    <tr style=\"text-align: right;\">\n",
              "      <th></th>\n",
              "      <th>Data</th>\n",
              "      <th>pib</th>\n",
              "    </tr>\n",
              "  </thead>\n",
              "  <tbody>\n",
              "    <tr>\n",
              "      <th>309</th>\n",
              "      <td>2019-10</td>\n",
              "      <td>640907</td>\n",
              "    </tr>\n",
              "    <tr>\n",
              "      <th>310</th>\n",
              "      <td>2019-11</td>\n",
              "      <td>634654</td>\n",
              "    </tr>\n",
              "    <tr>\n",
              "      <th>311</th>\n",
              "      <td>2019-12</td>\n",
              "      <td>647460</td>\n",
              "    </tr>\n",
              "    <tr>\n",
              "      <th>312</th>\n",
              "      <td>2020-01</td>\n",
              "      <td>619785</td>\n",
              "    </tr>\n",
              "    <tr>\n",
              "      <th>313</th>\n",
              "      <td>2020-02</td>\n",
              "      <td>608644</td>\n",
              "    </tr>\n",
              "  </tbody>\n",
              "</table>\n",
              "</div>"
            ],
            "text/plain": [
              "        Data     pib\n",
              "309  2019-10  640907\n",
              "310  2019-11  634654\n",
              "311  2019-12  647460\n",
              "312  2020-01  619785\n",
              "313  2020-02  608644"
            ]
          },
          "metadata": {
            "tags": []
          },
          "execution_count": 17
        }
      ]
    },
    {
      "cell_type": "code",
      "metadata": {
        "id": "Z8fCFlTI87xL"
      },
      "source": [
        "# Transformar o tipo das colunas e definir o index\r\n",
        "dfpib['pib'] = pd.to_numeric(dfpib['pib'])\r\n",
        "dfpib['Data'] = pd.to_datetime(dfpib['Data'])\r\n",
        "dfpib.set_index('Data', inplace=True)"
      ],
      "execution_count": null,
      "outputs": []
    },
    {
      "cell_type": "code",
      "metadata": {
        "colab": {
          "base_uri": "https://localhost:8080/",
          "height": 235
        },
        "id": "w_Tx3QC587xM",
        "outputId": "e3d04342-72f5-403e-8222-1322f9392d14"
      },
      "source": [
        "dfpib.head()"
      ],
      "execution_count": null,
      "outputs": [
        {
          "output_type": "execute_result",
          "data": {
            "text/html": [
              "<div>\n",
              "<style scoped>\n",
              "    .dataframe tbody tr th:only-of-type {\n",
              "        vertical-align: middle;\n",
              "    }\n",
              "\n",
              "    .dataframe tbody tr th {\n",
              "        vertical-align: top;\n",
              "    }\n",
              "\n",
              "    .dataframe thead th {\n",
              "        text-align: right;\n",
              "    }\n",
              "</style>\n",
              "<table border=\"1\" class=\"dataframe\">\n",
              "  <thead>\n",
              "    <tr style=\"text-align: right;\">\n",
              "      <th></th>\n",
              "      <th>pib</th>\n",
              "    </tr>\n",
              "    <tr>\n",
              "      <th>Data</th>\n",
              "      <th></th>\n",
              "    </tr>\n",
              "  </thead>\n",
              "  <tbody>\n",
              "    <tr>\n",
              "      <th>1994-01-01</th>\n",
              "      <td>4563</td>\n",
              "    </tr>\n",
              "    <tr>\n",
              "      <th>1994-02-01</th>\n",
              "      <td>5793</td>\n",
              "    </tr>\n",
              "    <tr>\n",
              "      <th>1994-03-01</th>\n",
              "      <td>8520</td>\n",
              "    </tr>\n",
              "    <tr>\n",
              "      <th>1994-04-01</th>\n",
              "      <td>12829</td>\n",
              "    </tr>\n",
              "    <tr>\n",
              "      <th>1994-05-01</th>\n",
              "      <td>20504</td>\n",
              "    </tr>\n",
              "  </tbody>\n",
              "</table>\n",
              "</div>"
            ],
            "text/plain": [
              "              pib\n",
              "Data             \n",
              "1994-01-01   4563\n",
              "1994-02-01   5793\n",
              "1994-03-01   8520\n",
              "1994-04-01  12829\n",
              "1994-05-01  20504"
            ]
          },
          "metadata": {
            "tags": []
          },
          "execution_count": 19
        }
      ]
    },
    {
      "cell_type": "code",
      "metadata": {
        "colab": {
          "base_uri": "https://localhost:8080/",
          "height": 297
        },
        "id": "vxbTTYv987xM",
        "outputId": "e37708fb-4a6c-4ffe-8cdb-69f65e536a0e"
      },
      "source": [
        "# Estatísitica descritiva dos valores de arrecadação\r\n",
        "dfpib.describe()"
      ],
      "execution_count": null,
      "outputs": [
        {
          "output_type": "execute_result",
          "data": {
            "text/html": [
              "<div>\n",
              "<style scoped>\n",
              "    .dataframe tbody tr th:only-of-type {\n",
              "        vertical-align: middle;\n",
              "    }\n",
              "\n",
              "    .dataframe tbody tr th {\n",
              "        vertical-align: top;\n",
              "    }\n",
              "\n",
              "    .dataframe thead th {\n",
              "        text-align: right;\n",
              "    }\n",
              "</style>\n",
              "<table border=\"1\" class=\"dataframe\">\n",
              "  <thead>\n",
              "    <tr style=\"text-align: right;\">\n",
              "      <th></th>\n",
              "      <th>pib</th>\n",
              "    </tr>\n",
              "  </thead>\n",
              "  <tbody>\n",
              "    <tr>\n",
              "      <th>count</th>\n",
              "      <td>314.000000</td>\n",
              "    </tr>\n",
              "    <tr>\n",
              "      <th>mean</th>\n",
              "      <td>269371.283439</td>\n",
              "    </tr>\n",
              "    <tr>\n",
              "      <th>std</th>\n",
              "      <td>184225.641732</td>\n",
              "    </tr>\n",
              "    <tr>\n",
              "      <th>min</th>\n",
              "      <td>4563.000000</td>\n",
              "    </tr>\n",
              "    <tr>\n",
              "      <th>25%</th>\n",
              "      <td>101859.000000</td>\n",
              "    </tr>\n",
              "    <tr>\n",
              "      <th>50%</th>\n",
              "      <td>216359.000000</td>\n",
              "    </tr>\n",
              "    <tr>\n",
              "      <th>75%</th>\n",
              "      <td>448483.500000</td>\n",
              "    </tr>\n",
              "    <tr>\n",
              "      <th>max</th>\n",
              "      <td>647460.000000</td>\n",
              "    </tr>\n",
              "  </tbody>\n",
              "</table>\n",
              "</div>"
            ],
            "text/plain": [
              "                 pib\n",
              "count     314.000000\n",
              "mean   269371.283439\n",
              "std    184225.641732\n",
              "min      4563.000000\n",
              "25%    101859.000000\n",
              "50%    216359.000000\n",
              "75%    448483.500000\n",
              "max    647460.000000"
            ]
          },
          "metadata": {
            "tags": []
          },
          "execution_count": 20
        }
      ]
    },
    {
      "cell_type": "code",
      "metadata": {
        "colab": {
          "base_uri": "https://localhost:8080/"
        },
        "id": "IuxrqLqe87xM",
        "outputId": "fd86315b-5f60-4001-9399-8ce15088206a"
      },
      "source": [
        "# Confirmar se há valores nulos\r\n",
        "dfpib.isnull().sum()"
      ],
      "execution_count": null,
      "outputs": [
        {
          "output_type": "execute_result",
          "data": {
            "text/plain": [
              "pib    0\n",
              "dtype: int64"
            ]
          },
          "metadata": {
            "tags": []
          },
          "execution_count": 21
        }
      ]
    },
    {
      "cell_type": "code",
      "metadata": {
        "colab": {
          "base_uri": "https://localhost:8080/",
          "height": 405
        },
        "id": "leaTkWg887xN",
        "outputId": "adf336d5-ca67-4cc6-9788-09e4d5ea1be6"
      },
      "source": [
        "# Gráfico dos valores\r\n",
        "dfpib.plot(figsize=(15,6))"
      ],
      "execution_count": null,
      "outputs": [
        {
          "output_type": "execute_result",
          "data": {
            "text/plain": [
              "<matplotlib.axes._subplots.AxesSubplot at 0x7f9fc4593e48>"
            ]
          },
          "metadata": {
            "tags": []
          },
          "execution_count": 22
        },
        {
          "output_type": "display_data",
          "data": {
            "image/png": "[encoded data removed]",
            "text/plain": [
              "<Figure size 1080x432 with 1 Axes>"
            ]
          },
          "metadata": {
            "tags": [],
            "needs_background": "light"
          }
        }
      ]
    },
    {
      "cell_type": "code",
      "metadata": {
        "colab": {
          "base_uri": "https://localhost:8080/",
          "height": 303
        },
        "id": "Jfu0cgkA87xN",
        "outputId": "ba1499b0-c864-40fb-bd4f-5f0985b1b80b"
      },
      "source": [
        "# Análise dos períodos de sazonalidade\r\n",
        "dfpib.groupby(dfpib.index.month).mean().plot(kind='bar')"
      ],
      "execution_count": null,
      "outputs": [
        {
          "output_type": "execute_result",
          "data": {
            "text/plain": [
              "<matplotlib.axes._subplots.AxesSubplot at 0x7f9fd9668d30>"
            ]
          },
          "metadata": {
            "tags": []
          },
          "execution_count": 23
        },
        {
          "output_type": "display_data",
          "data": {
            "image/png": "[encoded data removed]",
            "text/plain": [
              "<Figure size 432x288 with 1 Axes>"
            ]
          },
          "metadata": {
            "tags": [],
            "needs_background": "light"
          }
        }
      ]
    },
    {
      "cell_type": "markdown",
      "metadata": {
        "id": "e6FYdVXe-mvL"
      },
      "source": [
        "\r\n",
        "\r\n",
        "## **CARREGAMENTO DOS DADOS E ANÁLISE EXPLORATÓRIA DAS IMPORTAÇÕES**\r\n",
        "\r\n",
        "\r\n"
      ]
    },
    {
      "cell_type": "code",
      "metadata": {
        "id": "_oOyHPEw-mvv"
      },
      "source": [
        "# Carregar bibliotecas e ler os arquivos\r\n",
        "import pandas as pd \r\n",
        "dfimp = pd.read_csv(\"https://raw.githubusercontent.com/mmbs1989/DSWP-Aluno/main/dadostccdata.csv\")\r\n",
        "dfi = pd.read_csv(\"https://raw.githubusercontent.com/mmbs1989/DSWP-Aluno/main/dadostcci.csv\")"
      ],
      "execution_count": null,
      "outputs": []
    },
    {
      "cell_type": "code",
      "metadata": {
        "colab": {
          "base_uri": "https://localhost:8080/",
          "height": 204
        },
        "id": "x_ICpZbN-mvy",
        "outputId": "3b4330b8-81b5-4a7e-8e6e-763b4c6c4a07"
      },
      "source": [
        "# Juntar as tabelas carregadas e definir o nome da coluna\r\n",
        "dfimp['imp'] = dfi['i']\r\n",
        "dfimp.head()"
      ],
      "execution_count": null,
      "outputs": [
        {
          "output_type": "execute_result",
          "data": {
            "text/html": [
              "<div>\n",
              "<style scoped>\n",
              "    .dataframe tbody tr th:only-of-type {\n",
              "        vertical-align: middle;\n",
              "    }\n",
              "\n",
              "    .dataframe tbody tr th {\n",
              "        vertical-align: top;\n",
              "    }\n",
              "\n",
              "    .dataframe thead th {\n",
              "        text-align: right;\n",
              "    }\n",
              "</style>\n",
              "<table border=\"1\" class=\"dataframe\">\n",
              "  <thead>\n",
              "    <tr style=\"text-align: right;\">\n",
              "      <th></th>\n",
              "      <th>Data</th>\n",
              "      <th>imp</th>\n",
              "    </tr>\n",
              "  </thead>\n",
              "  <tbody>\n",
              "    <tr>\n",
              "      <th>0</th>\n",
              "      <td>1994-01</td>\n",
              "      <td>1768675231</td>\n",
              "    </tr>\n",
              "    <tr>\n",
              "      <th>1</th>\n",
              "      <td>1994-02</td>\n",
              "      <td>2030100974</td>\n",
              "    </tr>\n",
              "    <tr>\n",
              "      <th>2</th>\n",
              "      <td>1994-03</td>\n",
              "      <td>2248937491</td>\n",
              "    </tr>\n",
              "    <tr>\n",
              "      <th>3</th>\n",
              "      <td>1994-04</td>\n",
              "      <td>2151981505</td>\n",
              "    </tr>\n",
              "    <tr>\n",
              "      <th>4</th>\n",
              "      <td>1994-05</td>\n",
              "      <td>2624852192</td>\n",
              "    </tr>\n",
              "  </tbody>\n",
              "</table>\n",
              "</div>"
            ],
            "text/plain": [
              "      Data         imp\n",
              "0  1994-01  1768675231\n",
              "1  1994-02  2030100974\n",
              "2  1994-03  2248937491\n",
              "3  1994-04  2151981505\n",
              "4  1994-05  2624852192"
            ]
          },
          "metadata": {
            "tags": []
          },
          "execution_count": 26
        }
      ]
    },
    {
      "cell_type": "code",
      "metadata": {
        "colab": {
          "base_uri": "https://localhost:8080/",
          "height": 204
        },
        "id": "DWkugJ9w-mv0",
        "outputId": "203998b0-98b3-4e92-e6ee-3a5d65285064"
      },
      "source": [
        "dfimp.tail()"
      ],
      "execution_count": null,
      "outputs": [
        {
          "output_type": "execute_result",
          "data": {
            "text/html": [
              "<div>\n",
              "<style scoped>\n",
              "    .dataframe tbody tr th:only-of-type {\n",
              "        vertical-align: middle;\n",
              "    }\n",
              "\n",
              "    .dataframe tbody tr th {\n",
              "        vertical-align: top;\n",
              "    }\n",
              "\n",
              "    .dataframe thead th {\n",
              "        text-align: right;\n",
              "    }\n",
              "</style>\n",
              "<table border=\"1\" class=\"dataframe\">\n",
              "  <thead>\n",
              "    <tr style=\"text-align: right;\">\n",
              "      <th></th>\n",
              "      <th>Data</th>\n",
              "      <th>imp</th>\n",
              "    </tr>\n",
              "  </thead>\n",
              "  <tbody>\n",
              "    <tr>\n",
              "      <th>315</th>\n",
              "      <td>2020-04</td>\n",
              "      <td>11610871137</td>\n",
              "    </tr>\n",
              "    <tr>\n",
              "      <th>316</th>\n",
              "      <td>2020-05</td>\n",
              "      <td>13390915390</td>\n",
              "    </tr>\n",
              "    <tr>\n",
              "      <th>317</th>\n",
              "      <td>2020-06</td>\n",
              "      <td>10449294354</td>\n",
              "    </tr>\n",
              "    <tr>\n",
              "      <th>318</th>\n",
              "      <td>2020-07</td>\n",
              "      <td>11508172753</td>\n",
              "    </tr>\n",
              "    <tr>\n",
              "      <th>319</th>\n",
              "      <td>2020-08</td>\n",
              "      <td>11132508190</td>\n",
              "    </tr>\n",
              "  </tbody>\n",
              "</table>\n",
              "</div>"
            ],
            "text/plain": [
              "        Data          imp\n",
              "315  2020-04  11610871137\n",
              "316  2020-05  13390915390\n",
              "317  2020-06  10449294354\n",
              "318  2020-07  11508172753\n",
              "319  2020-08  11132508190"
            ]
          },
          "metadata": {
            "tags": []
          },
          "execution_count": 27
        }
      ]
    },
    {
      "cell_type": "code",
      "metadata": {
        "colab": {
          "base_uri": "https://localhost:8080/",
          "height": 204
        },
        "id": "vycPqvdX-mv2",
        "outputId": "f06da065-534e-44f9-ed8f-080348036386"
      },
      "source": [
        "# Retirar as linhas que não serão utilizadas na análise\r\n",
        "dfimp = dfimp.drop(dfimp.index[314:])\r\n",
        "dfimp.tail()"
      ],
      "execution_count": null,
      "outputs": [
        {
          "output_type": "execute_result",
          "data": {
            "text/html": [
              "<div>\n",
              "<style scoped>\n",
              "    .dataframe tbody tr th:only-of-type {\n",
              "        vertical-align: middle;\n",
              "    }\n",
              "\n",
              "    .dataframe tbody tr th {\n",
              "        vertical-align: top;\n",
              "    }\n",
              "\n",
              "    .dataframe thead th {\n",
              "        text-align: right;\n",
              "    }\n",
              "</style>\n",
              "<table border=\"1\" class=\"dataframe\">\n",
              "  <thead>\n",
              "    <tr style=\"text-align: right;\">\n",
              "      <th></th>\n",
              "      <th>Data</th>\n",
              "      <th>imp</th>\n",
              "    </tr>\n",
              "  </thead>\n",
              "  <tbody>\n",
              "    <tr>\n",
              "      <th>309</th>\n",
              "      <td>2019-10</td>\n",
              "      <td>17027283951</td>\n",
              "    </tr>\n",
              "    <tr>\n",
              "      <th>310</th>\n",
              "      <td>2019-11</td>\n",
              "      <td>14172102789</td>\n",
              "    </tr>\n",
              "    <tr>\n",
              "      <th>311</th>\n",
              "      <td>2019-12</td>\n",
              "      <td>12556086388</td>\n",
              "    </tr>\n",
              "    <tr>\n",
              "      <th>312</th>\n",
              "      <td>2020-01</td>\n",
              "      <td>16178224141</td>\n",
              "    </tr>\n",
              "    <tr>\n",
              "      <th>313</th>\n",
              "      <td>2020-02</td>\n",
              "      <td>13257290693</td>\n",
              "    </tr>\n",
              "  </tbody>\n",
              "</table>\n",
              "</div>"
            ],
            "text/plain": [
              "        Data          imp\n",
              "309  2019-10  17027283951\n",
              "310  2019-11  14172102789\n",
              "311  2019-12  12556086388\n",
              "312  2020-01  16178224141\n",
              "313  2020-02  13257290693"
            ]
          },
          "metadata": {
            "tags": []
          },
          "execution_count": 28
        }
      ]
    },
    {
      "cell_type": "code",
      "metadata": {
        "id": "u2BoIMi5-mv4"
      },
      "source": [
        "# Transformar o tipo das colunas e definir o index\r\n",
        "dfimp['imp'] = pd.to_numeric(dfimp['imp'])\r\n",
        "dfimp['Data'] = pd.to_datetime(dfimp['Data'])\r\n",
        "dfimp.set_index('Data', inplace=True)"
      ],
      "execution_count": null,
      "outputs": []
    },
    {
      "cell_type": "code",
      "metadata": {
        "colab": {
          "base_uri": "https://localhost:8080/",
          "height": 235
        },
        "id": "4j1zm5Fv-mv5",
        "outputId": "030ebe8c-f44f-4edb-c982-ca7ad6e77b21"
      },
      "source": [
        "dfimp.head()"
      ],
      "execution_count": null,
      "outputs": [
        {
          "output_type": "execute_result",
          "data": {
            "text/html": [
              "<div>\n",
              "<style scoped>\n",
              "    .dataframe tbody tr th:only-of-type {\n",
              "        vertical-align: middle;\n",
              "    }\n",
              "\n",
              "    .dataframe tbody tr th {\n",
              "        vertical-align: top;\n",
              "    }\n",
              "\n",
              "    .dataframe thead th {\n",
              "        text-align: right;\n",
              "    }\n",
              "</style>\n",
              "<table border=\"1\" class=\"dataframe\">\n",
              "  <thead>\n",
              "    <tr style=\"text-align: right;\">\n",
              "      <th></th>\n",
              "      <th>imp</th>\n",
              "    </tr>\n",
              "    <tr>\n",
              "      <th>Data</th>\n",
              "      <th></th>\n",
              "    </tr>\n",
              "  </thead>\n",
              "  <tbody>\n",
              "    <tr>\n",
              "      <th>1994-01-01</th>\n",
              "      <td>1768675231</td>\n",
              "    </tr>\n",
              "    <tr>\n",
              "      <th>1994-02-01</th>\n",
              "      <td>2030100974</td>\n",
              "    </tr>\n",
              "    <tr>\n",
              "      <th>1994-03-01</th>\n",
              "      <td>2248937491</td>\n",
              "    </tr>\n",
              "    <tr>\n",
              "      <th>1994-04-01</th>\n",
              "      <td>2151981505</td>\n",
              "    </tr>\n",
              "    <tr>\n",
              "      <th>1994-05-01</th>\n",
              "      <td>2624852192</td>\n",
              "    </tr>\n",
              "  </tbody>\n",
              "</table>\n",
              "</div>"
            ],
            "text/plain": [
              "                   imp\n",
              "Data                  \n",
              "1994-01-01  1768675231\n",
              "1994-02-01  2030100974\n",
              "1994-03-01  2248937491\n",
              "1994-04-01  2151981505\n",
              "1994-05-01  2624852192"
            ]
          },
          "metadata": {
            "tags": []
          },
          "execution_count": 30
        }
      ]
    },
    {
      "cell_type": "code",
      "metadata": {
        "colab": {
          "base_uri": "https://localhost:8080/",
          "height": 297
        },
        "id": "zYPeXRwV-mv6",
        "outputId": "c5d1d9a3-586b-4065-f005-6681c75fd173"
      },
      "source": [
        "# Estatísitica descritiva dos valores de arrecadação\r\n",
        "dfimp.describe()"
      ],
      "execution_count": null,
      "outputs": [
        {
          "output_type": "execute_result",
          "data": {
            "text/html": [
              "<div>\n",
              "<style scoped>\n",
              "    .dataframe tbody tr th:only-of-type {\n",
              "        vertical-align: middle;\n",
              "    }\n",
              "\n",
              "    .dataframe tbody tr th {\n",
              "        vertical-align: top;\n",
              "    }\n",
              "\n",
              "    .dataframe thead th {\n",
              "        text-align: right;\n",
              "    }\n",
              "</style>\n",
              "<table border=\"1\" class=\"dataframe\">\n",
              "  <thead>\n",
              "    <tr style=\"text-align: right;\">\n",
              "      <th></th>\n",
              "      <th>imp</th>\n",
              "    </tr>\n",
              "  </thead>\n",
              "  <tbody>\n",
              "    <tr>\n",
              "      <th>count</th>\n",
              "      <td>3.140000e+02</td>\n",
              "    </tr>\n",
              "    <tr>\n",
              "      <th>mean</th>\n",
              "      <td>9.892423e+09</td>\n",
              "    </tr>\n",
              "    <tr>\n",
              "      <th>std</th>\n",
              "      <td>5.810019e+09</td>\n",
              "    </tr>\n",
              "    <tr>\n",
              "      <th>min</th>\n",
              "      <td>1.768675e+09</td>\n",
              "    </tr>\n",
              "    <tr>\n",
              "      <th>25%</th>\n",
              "      <td>4.618011e+09</td>\n",
              "    </tr>\n",
              "    <tr>\n",
              "      <th>50%</th>\n",
              "      <td>8.533477e+09</td>\n",
              "    </tr>\n",
              "    <tr>\n",
              "      <th>75%</th>\n",
              "      <td>1.460153e+10</td>\n",
              "    </tr>\n",
              "    <tr>\n",
              "      <th>max</th>\n",
              "      <td>2.304960e+10</td>\n",
              "    </tr>\n",
              "  </tbody>\n",
              "</table>\n",
              "</div>"
            ],
            "text/plain": [
              "                imp\n",
              "count  3.140000e+02\n",
              "mean   9.892423e+09\n",
              "std    5.810019e+09\n",
              "min    1.768675e+09\n",
              "25%    4.618011e+09\n",
              "50%    8.533477e+09\n",
              "75%    1.460153e+10\n",
              "max    2.304960e+10"
            ]
          },
          "metadata": {
            "tags": []
          },
          "execution_count": 31
        }
      ]
    },
    {
      "cell_type": "code",
      "metadata": {
        "colab": {
          "base_uri": "https://localhost:8080/"
        },
        "id": "3HY8V9sn-mv7",
        "outputId": "af4aac79-d5c5-4a0e-f7f0-8d8487ca47d1"
      },
      "source": [
        "# Confirmar se há valores nulos\r\n",
        "dfimp.isnull().sum()"
      ],
      "execution_count": null,
      "outputs": [
        {
          "output_type": "execute_result",
          "data": {
            "text/plain": [
              "imp    0\n",
              "dtype: int64"
            ]
          },
          "metadata": {
            "tags": []
          },
          "execution_count": 32
        }
      ]
    },
    {
      "cell_type": "code",
      "metadata": {
        "colab": {
          "base_uri": "https://localhost:8080/",
          "height": 416
        },
        "id": "SxIywnyF-mv9",
        "outputId": "7c41c90a-7ce8-49f0-ea8f-586978e023cf"
      },
      "source": [
        "# Gráfico dos valores\r\n",
        "dfimp.plot(figsize=(15,6))"
      ],
      "execution_count": null,
      "outputs": [
        {
          "output_type": "execute_result",
          "data": {
            "text/plain": [
              "<matplotlib.axes._subplots.AxesSubplot at 0x7f9fc3ed0ba8>"
            ]
          },
          "metadata": {
            "tags": []
          },
          "execution_count": 33
        },
        {
          "output_type": "display_data",
          "data": {
            "image/png": "[encoded data removed]",
            "text/plain": [
              "<Figure size 1080x432 with 1 Axes>"
            ]
          },
          "metadata": {
            "tags": [],
            "needs_background": "light"
          }
        }
      ]
    },
    {
      "cell_type": "code",
      "metadata": {
        "colab": {
          "base_uri": "https://localhost:8080/",
          "height": 310
        },
        "id": "yUKSiLmE-mv-",
        "outputId": "995b84d9-a59f-4cf6-ad0e-0eec6f12007b"
      },
      "source": [
        "# Análise dos períodos de sazonalidade\r\n",
        "dfimp.groupby(dfimp.index.month).mean().plot(kind='bar')"
      ],
      "execution_count": null,
      "outputs": [
        {
          "output_type": "execute_result",
          "data": {
            "text/plain": [
              "<matplotlib.axes._subplots.AxesSubplot at 0x7f9fc3dec0b8>"
            ]
          },
          "metadata": {
            "tags": []
          },
          "execution_count": 34
        },
        {
          "output_type": "display_data",
          "data": {
            "image/png": "[encoded data removed]",
            "text/plain": [
              "<Figure size 432x288 with 1 Axes>"
            ]
          },
          "metadata": {
            "tags": [],
            "needs_background": "light"
          }
        }
      ]
    },
    {
      "cell_type": "markdown",
      "metadata": {
        "id": "Ro4mbGf-_8rk"
      },
      "source": [
        "\r\n",
        "\r\n",
        "## **CARREGAMENTO DOS DADOS E ANÁLISE EXPLORATÓRIA DAS EXPORTAÇÕES**\r\n",
        "\r\n",
        "\r\n"
      ]
    },
    {
      "cell_type": "code",
      "metadata": {
        "id": "uqInTGRr_8sA"
      },
      "source": [
        "# Carregar bibliotecas e ler os arquivos\r\n",
        "import pandas as pd \r\n",
        "dfexp = pd.read_csv(\"https://raw.githubusercontent.com/mmbs1989/DSWP-Aluno/main/dadostccdata.csv\")\r\n",
        "dfe = pd.read_csv(\"https://raw.githubusercontent.com/mmbs1989/DSWP-Aluno/main/dadostcce.csv\")"
      ],
      "execution_count": null,
      "outputs": []
    },
    {
      "cell_type": "code",
      "metadata": {
        "colab": {
          "base_uri": "https://localhost:8080/",
          "height": 204
        },
        "id": "CBeGOuxr_8sA",
        "outputId": "25fbf894-6ebe-4235-f1d0-b1e80697fcfc"
      },
      "source": [
        "# Juntar as tabelas carregadas e definir o nome da coluna\r\n",
        "dfexp['exp'] = dfe['e']\r\n",
        "dfexp.head()"
      ],
      "execution_count": null,
      "outputs": [
        {
          "output_type": "execute_result",
          "data": {
            "text/html": [
              "<div>\n",
              "<style scoped>\n",
              "    .dataframe tbody tr th:only-of-type {\n",
              "        vertical-align: middle;\n",
              "    }\n",
              "\n",
              "    .dataframe tbody tr th {\n",
              "        vertical-align: top;\n",
              "    }\n",
              "\n",
              "    .dataframe thead th {\n",
              "        text-align: right;\n",
              "    }\n",
              "</style>\n",
              "<table border=\"1\" class=\"dataframe\">\n",
              "  <thead>\n",
              "    <tr style=\"text-align: right;\">\n",
              "      <th></th>\n",
              "      <th>Data</th>\n",
              "      <th>exp</th>\n",
              "    </tr>\n",
              "  </thead>\n",
              "  <tbody>\n",
              "    <tr>\n",
              "      <th>0</th>\n",
              "      <td>1994-01</td>\n",
              "      <td>2747187653</td>\n",
              "    </tr>\n",
              "    <tr>\n",
              "      <th>1</th>\n",
              "      <td>1994-02</td>\n",
              "      <td>2778288879</td>\n",
              "    </tr>\n",
              "    <tr>\n",
              "      <th>2</th>\n",
              "      <td>1994-03</td>\n",
              "      <td>3350391558</td>\n",
              "    </tr>\n",
              "    <tr>\n",
              "      <th>3</th>\n",
              "      <td>1994-04</td>\n",
              "      <td>3634841763</td>\n",
              "    </tr>\n",
              "    <tr>\n",
              "      <th>4</th>\n",
              "      <td>1994-05</td>\n",
              "      <td>3862059965</td>\n",
              "    </tr>\n",
              "  </tbody>\n",
              "</table>\n",
              "</div>"
            ],
            "text/plain": [
              "      Data         exp\n",
              "0  1994-01  2747187653\n",
              "1  1994-02  2778288879\n",
              "2  1994-03  3350391558\n",
              "3  1994-04  3634841763\n",
              "4  1994-05  3862059965"
            ]
          },
          "metadata": {
            "tags": []
          },
          "execution_count": 36
        }
      ]
    },
    {
      "cell_type": "code",
      "metadata": {
        "colab": {
          "base_uri": "https://localhost:8080/",
          "height": 204
        },
        "id": "4D1bk3kI_8sB",
        "outputId": "7d892757-8b98-4786-a909-dc25bba5ae47"
      },
      "source": [
        "dfexp.tail()"
      ],
      "execution_count": null,
      "outputs": [
        {
          "output_type": "execute_result",
          "data": {
            "text/html": [
              "<div>\n",
              "<style scoped>\n",
              "    .dataframe tbody tr th:only-of-type {\n",
              "        vertical-align: middle;\n",
              "    }\n",
              "\n",
              "    .dataframe tbody tr th {\n",
              "        vertical-align: top;\n",
              "    }\n",
              "\n",
              "    .dataframe thead th {\n",
              "        text-align: right;\n",
              "    }\n",
              "</style>\n",
              "<table border=\"1\" class=\"dataframe\">\n",
              "  <thead>\n",
              "    <tr style=\"text-align: right;\">\n",
              "      <th></th>\n",
              "      <th>Data</th>\n",
              "      <th>exp</th>\n",
              "    </tr>\n",
              "  </thead>\n",
              "  <tbody>\n",
              "    <tr>\n",
              "      <th>315</th>\n",
              "      <td>2020-04</td>\n",
              "      <td>17612476835</td>\n",
              "    </tr>\n",
              "    <tr>\n",
              "      <th>316</th>\n",
              "      <td>2020-05</td>\n",
              "      <td>17546386795</td>\n",
              "    </tr>\n",
              "    <tr>\n",
              "      <th>317</th>\n",
              "      <td>2020-06</td>\n",
              "      <td>17514983082</td>\n",
              "    </tr>\n",
              "    <tr>\n",
              "      <th>318</th>\n",
              "      <td>2020-07</td>\n",
              "      <td>19453592020</td>\n",
              "    </tr>\n",
              "    <tr>\n",
              "      <th>319</th>\n",
              "      <td>2020-08</td>\n",
              "      <td>17484221076</td>\n",
              "    </tr>\n",
              "  </tbody>\n",
              "</table>\n",
              "</div>"
            ],
            "text/plain": [
              "        Data          exp\n",
              "315  2020-04  17612476835\n",
              "316  2020-05  17546386795\n",
              "317  2020-06  17514983082\n",
              "318  2020-07  19453592020\n",
              "319  2020-08  17484221076"
            ]
          },
          "metadata": {
            "tags": []
          },
          "execution_count": 37
        }
      ]
    },
    {
      "cell_type": "code",
      "metadata": {
        "colab": {
          "base_uri": "https://localhost:8080/",
          "height": 204
        },
        "id": "Yt15mU0a_8sC",
        "outputId": "b5ec5822-28f9-4635-b6f4-c8159aebfdea"
      },
      "source": [
        "# Retirar as linhas que não serão utilizadas na análise\r\n",
        "dfexp = dfexp.drop(dfexp.index[314:])\r\n",
        "dfexp.tail()"
      ],
      "execution_count": null,
      "outputs": [
        {
          "output_type": "execute_result",
          "data": {
            "text/html": [
              "<div>\n",
              "<style scoped>\n",
              "    .dataframe tbody tr th:only-of-type {\n",
              "        vertical-align: middle;\n",
              "    }\n",
              "\n",
              "    .dataframe tbody tr th {\n",
              "        vertical-align: top;\n",
              "    }\n",
              "\n",
              "    .dataframe thead th {\n",
              "        text-align: right;\n",
              "    }\n",
              "</style>\n",
              "<table border=\"1\" class=\"dataframe\">\n",
              "  <thead>\n",
              "    <tr style=\"text-align: right;\">\n",
              "      <th></th>\n",
              "      <th>Data</th>\n",
              "      <th>exp</th>\n",
              "    </tr>\n",
              "  </thead>\n",
              "  <tbody>\n",
              "    <tr>\n",
              "      <th>309</th>\n",
              "      <td>2019-10</td>\n",
              "      <td>19576839231</td>\n",
              "    </tr>\n",
              "    <tr>\n",
              "      <th>310</th>\n",
              "      <td>2019-11</td>\n",
              "      <td>17736715198</td>\n",
              "    </tr>\n",
              "    <tr>\n",
              "      <th>311</th>\n",
              "      <td>2019-12</td>\n",
              "      <td>18502977191</td>\n",
              "    </tr>\n",
              "    <tr>\n",
              "      <th>312</th>\n",
              "      <td>2020-01</td>\n",
              "      <td>14494583508</td>\n",
              "    </tr>\n",
              "    <tr>\n",
              "      <th>313</th>\n",
              "      <td>2020-02</td>\n",
              "      <td>15582390653</td>\n",
              "    </tr>\n",
              "  </tbody>\n",
              "</table>\n",
              "</div>"
            ],
            "text/plain": [
              "        Data          exp\n",
              "309  2019-10  19576839231\n",
              "310  2019-11  17736715198\n",
              "311  2019-12  18502977191\n",
              "312  2020-01  14494583508\n",
              "313  2020-02  15582390653"
            ]
          },
          "metadata": {
            "tags": []
          },
          "execution_count": 38
        }
      ]
    },
    {
      "cell_type": "code",
      "metadata": {
        "id": "_IVXv8LC_8sC"
      },
      "source": [
        "# Transformar o tipo das colunas e definir o index\r\n",
        "dfexp['exp'] = pd.to_numeric(dfexp['exp'])\r\n",
        "dfexp['Data'] = pd.to_datetime(dfexp['Data'])\r\n",
        "dfexp.set_index('Data', inplace=True)"
      ],
      "execution_count": null,
      "outputs": []
    },
    {
      "cell_type": "code",
      "metadata": {
        "colab": {
          "base_uri": "https://localhost:8080/",
          "height": 235
        },
        "id": "1XrRFNAA_8sD",
        "outputId": "ee5accdc-3d2d-4167-f884-534263d65264"
      },
      "source": [
        "dfexp.head()"
      ],
      "execution_count": null,
      "outputs": [
        {
          "output_type": "execute_result",
          "data": {
            "text/html": [
              "<div>\n",
              "<style scoped>\n",
              "    .dataframe tbody tr th:only-of-type {\n",
              "        vertical-align: middle;\n",
              "    }\n",
              "\n",
              "    .dataframe tbody tr th {\n",
              "        vertical-align: top;\n",
              "    }\n",
              "\n",
              "    .dataframe thead th {\n",
              "        text-align: right;\n",
              "    }\n",
              "</style>\n",
              "<table border=\"1\" class=\"dataframe\">\n",
              "  <thead>\n",
              "    <tr style=\"text-align: right;\">\n",
              "      <th></th>\n",
              "      <th>exp</th>\n",
              "    </tr>\n",
              "    <tr>\n",
              "      <th>Data</th>\n",
              "      <th></th>\n",
              "    </tr>\n",
              "  </thead>\n",
              "  <tbody>\n",
              "    <tr>\n",
              "      <th>1994-01-01</th>\n",
              "      <td>2747187653</td>\n",
              "    </tr>\n",
              "    <tr>\n",
              "      <th>1994-02-01</th>\n",
              "      <td>2778288879</td>\n",
              "    </tr>\n",
              "    <tr>\n",
              "      <th>1994-03-01</th>\n",
              "      <td>3350391558</td>\n",
              "    </tr>\n",
              "    <tr>\n",
              "      <th>1994-04-01</th>\n",
              "      <td>3634841763</td>\n",
              "    </tr>\n",
              "    <tr>\n",
              "      <th>1994-05-01</th>\n",
              "      <td>3862059965</td>\n",
              "    </tr>\n",
              "  </tbody>\n",
              "</table>\n",
              "</div>"
            ],
            "text/plain": [
              "                   exp\n",
              "Data                  \n",
              "1994-01-01  2747187653\n",
              "1994-02-01  2778288879\n",
              "1994-03-01  3350391558\n",
              "1994-04-01  3634841763\n",
              "1994-05-01  3862059965"
            ]
          },
          "metadata": {
            "tags": []
          },
          "execution_count": 40
        }
      ]
    },
    {
      "cell_type": "code",
      "metadata": {
        "colab": {
          "base_uri": "https://localhost:8080/",
          "height": 297
        },
        "id": "WHw-fUQu_8sD",
        "outputId": "54895345-25d7-4669-c136-14479645e62b"
      },
      "source": [
        "# Estatísitica descritiva dos valores de arrecadação\r\n",
        "dfexp.describe()"
      ],
      "execution_count": null,
      "outputs": [
        {
          "output_type": "execute_result",
          "data": {
            "text/html": [
              "<div>\n",
              "<style scoped>\n",
              "    .dataframe tbody tr th:only-of-type {\n",
              "        vertical-align: middle;\n",
              "    }\n",
              "\n",
              "    .dataframe tbody tr th {\n",
              "        vertical-align: top;\n",
              "    }\n",
              "\n",
              "    .dataframe thead th {\n",
              "        text-align: right;\n",
              "    }\n",
              "</style>\n",
              "<table border=\"1\" class=\"dataframe\">\n",
              "  <thead>\n",
              "    <tr style=\"text-align: right;\">\n",
              "      <th></th>\n",
              "      <th>exp</th>\n",
              "    </tr>\n",
              "  </thead>\n",
              "  <tbody>\n",
              "    <tr>\n",
              "      <th>count</th>\n",
              "      <td>3.140000e+02</td>\n",
              "    </tr>\n",
              "    <tr>\n",
              "      <th>mean</th>\n",
              "      <td>1.164247e+10</td>\n",
              "    </tr>\n",
              "    <tr>\n",
              "      <th>std</th>\n",
              "      <td>6.617466e+09</td>\n",
              "    </tr>\n",
              "    <tr>\n",
              "      <th>min</th>\n",
              "      <td>2.747188e+09</td>\n",
              "    </tr>\n",
              "    <tr>\n",
              "      <th>25%</th>\n",
              "      <td>4.632934e+09</td>\n",
              "    </tr>\n",
              "    <tr>\n",
              "      <th>50%</th>\n",
              "      <td>1.184663e+10</td>\n",
              "    </tr>\n",
              "    <tr>\n",
              "      <th>75%</th>\n",
              "      <td>1.768190e+10</td>\n",
              "    </tr>\n",
              "    <tr>\n",
              "      <th>max</th>\n",
              "      <td>2.614824e+10</td>\n",
              "    </tr>\n",
              "  </tbody>\n",
              "</table>\n",
              "</div>"
            ],
            "text/plain": [
              "                exp\n",
              "count  3.140000e+02\n",
              "mean   1.164247e+10\n",
              "std    6.617466e+09\n",
              "min    2.747188e+09\n",
              "25%    4.632934e+09\n",
              "50%    1.184663e+10\n",
              "75%    1.768190e+10\n",
              "max    2.614824e+10"
            ]
          },
          "metadata": {
            "tags": []
          },
          "execution_count": 41
        }
      ]
    },
    {
      "cell_type": "code",
      "metadata": {
        "colab": {
          "base_uri": "https://localhost:8080/"
        },
        "id": "2G9OPQbs_8sD",
        "outputId": "10ad2933-0919-4fd5-a912-4c69472968ba"
      },
      "source": [
        "# Confirmar se há valores nulos\r\n",
        "dfexp.isnull().sum()"
      ],
      "execution_count": null,
      "outputs": [
        {
          "output_type": "execute_result",
          "data": {
            "text/plain": [
              "exp    0\n",
              "dtype: int64"
            ]
          },
          "metadata": {
            "tags": []
          },
          "execution_count": 42
        }
      ]
    },
    {
      "cell_type": "code",
      "metadata": {
        "colab": {
          "base_uri": "https://localhost:8080/",
          "height": 416
        },
        "id": "8El2TDEy_8sE",
        "outputId": "40f20b1e-94e2-4b0f-b0ee-6c8803138a69"
      },
      "source": [
        "# Gráfico dos valores\r\n",
        "dfexp.plot(figsize=(15,6))"
      ],
      "execution_count": null,
      "outputs": [
        {
          "output_type": "execute_result",
          "data": {
            "text/plain": [
              "<matplotlib.axes._subplots.AxesSubplot at 0x7f9fc3d8a278>"
            ]
          },
          "metadata": {
            "tags": []
          },
          "execution_count": 43
        },
        {
          "output_type": "display_data",
          "data": {
            "image/png": "[encoded data removed]",
            "text/plain": [
              "<Figure size 1080x432 with 1 Axes>"
            ]
          },
          "metadata": {
            "tags": [],
            "needs_background": "light"
          }
        }
      ]
    },
    {
      "cell_type": "code",
      "metadata": {
        "colab": {
          "base_uri": "https://localhost:8080/",
          "height": 310
        },
        "id": "Ku7VAk_z_8sE",
        "outputId": "30a44b43-77fb-4be6-a706-e38f09006468"
      },
      "source": [
        "# Análise dos períodos de sazonalidade\r\n",
        "dfexp.groupby(dfexp.index.month).mean().plot(kind='bar')"
      ],
      "execution_count": null,
      "outputs": [
        {
          "output_type": "execute_result",
          "data": {
            "text/plain": [
              "<matplotlib.axes._subplots.AxesSubplot at 0x7f9fc3c9fcc0>"
            ]
          },
          "metadata": {
            "tags": []
          },
          "execution_count": 44
        },
        {
          "output_type": "display_data",
          "data": {
            "image/png": "[encoded data removed]",
            "text/plain": [
              "<Figure size 432x288 with 1 Axes>"
            ]
          },
          "metadata": {
            "tags": [],
            "needs_background": "light"
          }
        }
      ]
    },
    {
      "cell_type": "code",
      "metadata": {
        "id": "-w9o3kYO-9Pa"
      },
      "source": [
        "df.index.freq = 'MS'"
      ],
      "execution_count": null,
      "outputs": []
    },
    {
      "cell_type": "code",
      "metadata": {
        "id": "QWzQLfS8YN-w",
        "colab": {
          "base_uri": "https://localhost:8080/",
          "height": 350
        },
        "outputId": "b5819534-7a09-492c-c145-5a5b093cc474"
      },
      "source": [
        "ax = df['y'].plot(figsize = (16,5), title = \"Arrecadação\")\n",
        "ax.set(xlabel='Dates', ylabel='Arrecadação');"
      ],
      "execution_count": null,
      "outputs": [
        {
          "output_type": "display_data",
          "data": {
            "image/png": "[encoded data removed]",
            "text/plain": [
              "<Figure size 1152x360 with 1 Axes>"
            ]
          },
          "metadata": {
            "tags": [],
            "needs_background": "light"
          }
        }
      ]
    },
    {
      "cell_type": "markdown",
      "metadata": {
        "id": "S7nzq8iYYN-w"
      },
      "source": [
        "When we look at plot we can sey there is a seasonality in data. That's why we will use SARIMA (Seasonal ARIMA) instead of ARIMA.\n",
        "\n",
        "> Seasonal ARIMA, is an extension of ARIMA that explicitly supports univariate time series data with a seasonal component.\n",
        "> It adds three new hyperparameters to specify the autoregression (AR), differencing (I) and moving average (MA) for the seasonal component of the series, as well as an additional parameter for the period of the seasonality.\n",
        "\n",
        "> There are four seasonal elements that are not part of ARIMA that must be configured; they are:<br>\n",
        "**P:** Seasonal autoregressive order.<br>\n",
        "**D:** Seasonal difference order.<br>\n",
        "**Q:** Seasonal moving average order.<br>\n",
        "**m:** The number of time steps for a single seasonal period.<br>"
      ]
    },
    {
      "cell_type": "code",
      "metadata": {
        "id": "r_UgtaIUYN-x",
        "colab": {
          "base_uri": "https://localhost:8080/",
          "height": 297
        },
        "outputId": "12a984a9-deec-4e1a-fb9e-0feafe1a5fd7"
      },
      "source": [
        "a = seasonal_decompose(df[\"y\"], model = \"add\")\n",
        "a.plot();"
      ],
      "execution_count": null,
      "outputs": [
        {
          "output_type": "display_data",
          "data": {
            "image/png": "[encoded data removed]",
            "text/plain": [
              "<Figure size 432x288 with 4 Axes>"
            ]
          },
          "metadata": {
            "tags": [],
            "needs_background": "light"
          }
        }
      ]
    },
    {
      "cell_type": "code",
      "metadata": {
        "id": "h15A_zD-YN-y",
        "colab": {
          "base_uri": "https://localhost:8080/",
          "height": 442
        },
        "outputId": "2be75ec1-78b6-4b6e-bb2e-2f8e40d41744"
      },
      "source": [
        "import matplotlib.pyplot as plt\n",
        "plt.figure(figsize = (16,7))\n",
        "a.seasonal.plot();"
      ],
      "execution_count": null,
      "outputs": [
        {
          "output_type": "display_data",
          "data": {
            "image/png": "[encoded data removed]",
            "text/plain": [
              "<Figure size 1152x504 with 1 Axes>"
            ]
          },
          "metadata": {
            "tags": [],
            "needs_background": "light"
          }
        }
      ]
    },
    {
      "cell_type": "markdown",
      "metadata": {
        "id": "Lsle91dpYN-z"
      },
      "source": [
        "## **MODELOS PREDITIVOS DA ARRECADAÇÃO FEDERAL**"
      ]
    },
    {
      "cell_type": "markdown",
      "metadata": {
        "id": "ieeImLn1YN-z"
      },
      "source": [
        "MODELO PREDITIVO ARIMA"
      ]
    },
    {
      "cell_type": "code",
      "metadata": {
        "id": "IzLVvkU5YN-z",
        "colab": {
          "base_uri": "https://localhost:8080/",
          "height": 524
        },
        "outputId": "f3f8a574-7490-4015-a174-7f887763dc08"
      },
      "source": [
        "# Utilização do auto-arima para identificar o melhor modelo de forma automática\r\n",
        "auto_arima(df['y'], seasonal=True, m=12,max_p=7, max_d=5,max_q=7, max_P=4, max_D=4,max_Q=4).summary()"
      ],
      "execution_count": null,
      "outputs": [
        {
          "output_type": "execute_result",
          "data": {
            "text/html": [
              "<table class=\"simpletable\">\n",
              "<caption>SARIMAX Results</caption>\n",
              "<tr>\n",
              "  <th>Dep. Variable:</th>                   <td>y</td>                <th>  No. Observations:  </th>    <td>314</td>   \n",
              "</tr>\n",
              "<tr>\n",
              "  <th>Model:</th>           <td>SARIMAX(1, 1, 0)x(3, 0, [1], 12)</td> <th>  Log Likelihood     </th> <td>-3149.986</td>\n",
              "</tr>\n",
              "<tr>\n",
              "  <th>Date:</th>                    <td>Tue, 02 Feb 2021</td>         <th>  AIC                </th> <td>6313.972</td> \n",
              "</tr>\n",
              "<tr>\n",
              "  <th>Time:</th>                        <td>20:20:16</td>             <th>  BIC                </th> <td>6340.195</td> \n",
              "</tr>\n",
              "<tr>\n",
              "  <th>Sample:</th>                          <td>0</td>                <th>  HQIC               </th> <td>6324.452</td> \n",
              "</tr>\n",
              "<tr>\n",
              "  <th></th>                              <td> - 314</td>              <th>                     </th>     <td> </td>    \n",
              "</tr>\n",
              "<tr>\n",
              "  <th>Covariance Type:</th>                <td>opg</td>               <th>                     </th>     <td> </td>    \n",
              "</tr>\n",
              "</table>\n",
              "<table class=\"simpletable\">\n",
              "<tr>\n",
              "      <td></td>         <th>coef</th>     <th>std err</th>      <th>z</th>      <th>P>|z|</th>  <th>[0.025</th>    <th>0.975]</th>  \n",
              "</tr>\n",
              "<tr>\n",
              "  <th>intercept</th> <td>   62.5907</td> <td>  227.608</td> <td>    0.275</td> <td> 0.783</td> <td> -383.514</td> <td>  508.695</td>\n",
              "</tr>\n",
              "<tr>\n",
              "  <th>ar.L1</th>     <td>   -0.4892</td> <td>    0.030</td> <td>  -16.521</td> <td> 0.000</td> <td>   -0.547</td> <td>   -0.431</td>\n",
              "</tr>\n",
              "<tr>\n",
              "  <th>ar.S.L12</th>  <td>    0.7638</td> <td>    0.344</td> <td>    2.218</td> <td> 0.027</td> <td>    0.089</td> <td>    1.439</td>\n",
              "</tr>\n",
              "<tr>\n",
              "  <th>ar.S.L24</th>  <td>    0.1585</td> <td>    0.179</td> <td>    0.888</td> <td> 0.375</td> <td>   -0.191</td> <td>    0.509</td>\n",
              "</tr>\n",
              "<tr>\n",
              "  <th>ar.S.L36</th>  <td>    0.0462</td> <td>    0.157</td> <td>    0.293</td> <td> 0.769</td> <td>   -0.262</td> <td>    0.355</td>\n",
              "</tr>\n",
              "<tr>\n",
              "  <th>ma.S.L12</th>  <td>   -0.3141</td> <td>    0.349</td> <td>   -0.899</td> <td> 0.368</td> <td>   -0.999</td> <td>    0.370</td>\n",
              "</tr>\n",
              "<tr>\n",
              "  <th>sigma2</th>    <td> 2.955e+07</td> <td>    0.016</td> <td> 1.86e+09</td> <td> 0.000</td> <td> 2.95e+07</td> <td> 2.95e+07</td>\n",
              "</tr>\n",
              "</table>\n",
              "<table class=\"simpletable\">\n",
              "<tr>\n",
              "  <th>Ljung-Box (L1) (Q):</th>     <td>7.76</td>  <th>  Jarque-Bera (JB):  </th> <td>2867.26</td>\n",
              "</tr>\n",
              "<tr>\n",
              "  <th>Prob(Q):</th>                <td>0.01</td>  <th>  Prob(JB):          </th>  <td>0.00</td>  \n",
              "</tr>\n",
              "<tr>\n",
              "  <th>Heteroskedasticity (H):</th> <td>20.58</td> <th>  Skew:              </th>  <td>1.81</td>  \n",
              "</tr>\n",
              "<tr>\n",
              "  <th>Prob(H) (two-sided):</th>    <td>0.00</td>  <th>  Kurtosis:          </th>  <td>17.38</td> \n",
              "</tr>\n",
              "</table><br/><br/>Warnings:<br/>[1] Covariance matrix calculated using the outer product of gradients (complex-step).<br/>[2] Covariance matrix is singular or near-singular, with condition number 1.6e+24. Standard errors may be unstable."
            ],
            "text/plain": [
              "<class 'statsmodels.iolib.summary.Summary'>\n",
              "\"\"\"\n",
              "                                      SARIMAX Results                                       \n",
              "============================================================================================\n",
              "Dep. Variable:                                    y   No. Observations:                  314\n",
              "Model:             SARIMAX(1, 1, 0)x(3, 0, [1], 12)   Log Likelihood               -3149.986\n",
              "Date:                              Tue, 02 Feb 2021   AIC                           6313.972\n",
              "Time:                                      20:20:16   BIC                           6340.195\n",
              "Sample:                                           0   HQIC                          6324.452\n",
              "                                              - 314                                         \n",
              "Covariance Type:                                opg                                         \n",
              "==============================================================================\n",
              "                 coef    std err          z      P>|z|      [0.025      0.975]\n",
              "------------------------------------------------------------------------------\n",
              "intercept     62.5907    227.608      0.275      0.783    -383.514     508.695\n",
              "ar.L1         -0.4892      0.030    -16.521      0.000      -0.547      -0.431\n",
              "ar.S.L12       0.7638      0.344      2.218      0.027       0.089       1.439\n",
              "ar.S.L24       0.1585      0.179      0.888      0.375      -0.191       0.509\n",
              "ar.S.L36       0.0462      0.157      0.293      0.769      -0.262       0.355\n",
              "ma.S.L12      -0.3141      0.349     -0.899      0.368      -0.999       0.370\n",
              "sigma2      2.955e+07      0.016   1.86e+09      0.000    2.95e+07    2.95e+07\n",
              "===================================================================================\n",
              "Ljung-Box (L1) (Q):                   7.76   Jarque-Bera (JB):              2867.26\n",
              "Prob(Q):                              0.01   Prob(JB):                         0.00\n",
              "Heteroskedasticity (H):              20.58   Skew:                             1.81\n",
              "Prob(H) (two-sided):                  0.00   Kurtosis:                        17.38\n",
              "===================================================================================\n",
              "\n",
              "Warnings:\n",
              "[1] Covariance matrix calculated using the outer product of gradients (complex-step).\n",
              "[2] Covariance matrix is singular or near-singular, with condition number 1.6e+24. Standard errors may be unstable.\n",
              "\"\"\""
            ]
          },
          "metadata": {
            "tags": []
          },
          "execution_count": 9
        }
      ]
    },
    {
      "cell_type": "markdown",
      "metadata": {
        "id": "JaUIMgsOYN-0"
      },
      "source": [
        "As we can see best arima model chosen by auto_arima() is SARIMAX(2, 1, 1)x(4, 0, 3, 12)"
      ]
    },
    {
      "cell_type": "markdown",
      "metadata": {
        "id": "zuYz8pLaYN-0"
      },
      "source": [
        "Let's split the data into train and test set"
      ]
    },
    {
      "cell_type": "code",
      "metadata": {
        "id": "knwbTn7lYN-0"
      },
      "source": [
        "train_data = df[:len(df)-12]\n",
        "test_data = df[len(df)-12:]"
      ],
      "execution_count": null,
      "outputs": []
    },
    {
      "cell_type": "code",
      "metadata": {
        "id": "0qGX2YacbKGL",
        "colab": {
          "base_uri": "https://localhost:8080/",
          "height": 452
        },
        "outputId": "6692c916-e81f-4185-a799-e5d7e9c701ff"
      },
      "source": [
        "test_data"
      ],
      "execution_count": null,
      "outputs": [
        {
          "output_type": "execute_result",
          "data": {
            "text/html": [
              "<div>\n",
              "<style scoped>\n",
              "    .dataframe tbody tr th:only-of-type {\n",
              "        vertical-align: middle;\n",
              "    }\n",
              "\n",
              "    .dataframe tbody tr th {\n",
              "        vertical-align: top;\n",
              "    }\n",
              "\n",
              "    .dataframe thead th {\n",
              "        text-align: right;\n",
              "    }\n",
              "</style>\n",
              "<table border=\"1\" class=\"dataframe\">\n",
              "  <thead>\n",
              "    <tr style=\"text-align: right;\">\n",
              "      <th></th>\n",
              "      <th>y</th>\n",
              "    </tr>\n",
              "    <tr>\n",
              "      <th>ds</th>\n",
              "      <th></th>\n",
              "    </tr>\n",
              "  </thead>\n",
              "  <tbody>\n",
              "    <tr>\n",
              "      <th>2019-03-01</th>\n",
              "      <td>109854</td>\n",
              "    </tr>\n",
              "    <tr>\n",
              "      <th>2019-04-01</th>\n",
              "      <td>139030</td>\n",
              "    </tr>\n",
              "    <tr>\n",
              "      <th>2019-05-01</th>\n",
              "      <td>113278</td>\n",
              "    </tr>\n",
              "    <tr>\n",
              "      <th>2019-06-01</th>\n",
              "      <td>119946</td>\n",
              "    </tr>\n",
              "    <tr>\n",
              "      <th>2019-07-01</th>\n",
              "      <td>137735</td>\n",
              "    </tr>\n",
              "    <tr>\n",
              "      <th>2019-08-01</th>\n",
              "      <td>119951</td>\n",
              "    </tr>\n",
              "    <tr>\n",
              "      <th>2019-09-01</th>\n",
              "      <td>113933</td>\n",
              "    </tr>\n",
              "    <tr>\n",
              "      <th>2019-10-01</th>\n",
              "      <td>135202</td>\n",
              "    </tr>\n",
              "    <tr>\n",
              "      <th>2019-11-01</th>\n",
              "      <td>125161</td>\n",
              "    </tr>\n",
              "    <tr>\n",
              "      <th>2019-12-01</th>\n",
              "      <td>147501</td>\n",
              "    </tr>\n",
              "    <tr>\n",
              "      <th>2020-01-01</th>\n",
              "      <td>174991</td>\n",
              "    </tr>\n",
              "    <tr>\n",
              "      <th>2020-02-01</th>\n",
              "      <td>116430</td>\n",
              "    </tr>\n",
              "  </tbody>\n",
              "</table>\n",
              "</div>"
            ],
            "text/plain": [
              "                 y\n",
              "ds                \n",
              "2019-03-01  109854\n",
              "2019-04-01  139030\n",
              "2019-05-01  113278\n",
              "2019-06-01  119946\n",
              "2019-07-01  137735\n",
              "2019-08-01  119951\n",
              "2019-09-01  113933\n",
              "2019-10-01  135202\n",
              "2019-11-01  125161\n",
              "2019-12-01  147501\n",
              "2020-01-01  174991\n",
              "2020-02-01  116430"
            ]
          },
          "metadata": {
            "tags": []
          },
          "execution_count": 18
        }
      ]
    },
    {
      "cell_type": "code",
      "metadata": {
        "id": "fL3F6pnNYN-1",
        "colab": {
          "base_uri": "https://localhost:8080/",
          "height": 482
        },
        "outputId": "5db2fd7d-7243-4eb3-92c7-eccb441e8cf4"
      },
      "source": [
        "arima_model = SARIMAX(train_data['y'], order = (0,1,1), seasonal_order = (1,1,2,12))\n",
        "arima_result = arima_model.fit()\n",
        "arima_result.summary()"
      ],
      "execution_count": null,
      "outputs": [
        {
          "output_type": "execute_result",
          "data": {
            "text/html": [
              "<table class=\"simpletable\">\n",
              "<caption>SARIMAX Results</caption>\n",
              "<tr>\n",
              "  <th>Dep. Variable:</th>                    <td>y</td>                  <th>  No. Observations:  </th>    <td>302</td>   \n",
              "</tr>\n",
              "<tr>\n",
              "  <th>Model:</th>           <td>SARIMAX(0, 1, 1)x(1, 1, [1, 2], 12)</td> <th>  Log Likelihood     </th> <td>-2862.936</td>\n",
              "</tr>\n",
              "<tr>\n",
              "  <th>Date:</th>                     <td>Tue, 02 Feb 2021</td>           <th>  AIC                </th> <td>5735.872</td> \n",
              "</tr>\n",
              "<tr>\n",
              "  <th>Time:</th>                         <td>20:29:38</td>               <th>  BIC                </th> <td>5754.204</td> \n",
              "</tr>\n",
              "<tr>\n",
              "  <th>Sample:</th>                      <td>01-01-1994</td>              <th>  HQIC               </th> <td>5743.217</td> \n",
              "</tr>\n",
              "<tr>\n",
              "  <th></th>                            <td>- 02-01-2019</td>             <th>                     </th>     <td> </td>    \n",
              "</tr>\n",
              "<tr>\n",
              "  <th>Covariance Type:</th>                 <td>opg</td>                 <th>                     </th>     <td> </td>    \n",
              "</tr>\n",
              "</table>\n",
              "<table class=\"simpletable\">\n",
              "<tr>\n",
              "      <td></td>        <th>coef</th>     <th>std err</th>      <th>z</th>      <th>P>|z|</th>  <th>[0.025</th>    <th>0.975]</th>  \n",
              "</tr>\n",
              "<tr>\n",
              "  <th>ma.L1</th>    <td>   -0.8217</td> <td>    0.034</td> <td>  -24.127</td> <td> 0.000</td> <td>   -0.888</td> <td>   -0.755</td>\n",
              "</tr>\n",
              "<tr>\n",
              "  <th>ar.S.L12</th> <td>    0.9963</td> <td>    0.020</td> <td>   50.945</td> <td> 0.000</td> <td>    0.958</td> <td>    1.035</td>\n",
              "</tr>\n",
              "<tr>\n",
              "  <th>ma.S.L12</th> <td>   -1.6092</td> <td>    0.049</td> <td>  -32.776</td> <td> 0.000</td> <td>   -1.705</td> <td>   -1.513</td>\n",
              "</tr>\n",
              "<tr>\n",
              "  <th>ma.S.L24</th> <td>    0.6200</td> <td>    0.033</td> <td>   18.517</td> <td> 0.000</td> <td>    0.554</td> <td>    0.686</td>\n",
              "</tr>\n",
              "<tr>\n",
              "  <th>sigma2</th>   <td> 2.272e+07</td> <td> 3.69e-09</td> <td> 6.15e+15</td> <td> 0.000</td> <td> 2.27e+07</td> <td> 2.27e+07</td>\n",
              "</tr>\n",
              "</table>\n",
              "<table class=\"simpletable\">\n",
              "<tr>\n",
              "  <th>Ljung-Box (L1) (Q):</th>     <td>0.25</td>  <th>  Jarque-Bera (JB):  </th> <td>3694.51</td>\n",
              "</tr>\n",
              "<tr>\n",
              "  <th>Prob(Q):</th>                <td>0.62</td>  <th>  Prob(JB):          </th>  <td>0.00</td>  \n",
              "</tr>\n",
              "<tr>\n",
              "  <th>Heteroskedasticity (H):</th> <td>17.07</td> <th>  Skew:              </th>  <td>2.62</td>  \n",
              "</tr>\n",
              "<tr>\n",
              "  <th>Prob(H) (two-sided):</th>    <td>0.00</td>  <th>  Kurtosis:          </th>  <td>19.71</td> \n",
              "</tr>\n",
              "</table><br/><br/>Warnings:<br/>[1] Covariance matrix calculated using the outer product of gradients (complex-step).<br/>[2] Covariance matrix is singular or near-singular, with condition number 2.21e+30. Standard errors may be unstable."
            ],
            "text/plain": [
              "<class 'statsmodels.iolib.summary.Summary'>\n",
              "\"\"\"\n",
              "                                        SARIMAX Results                                        \n",
              "===============================================================================================\n",
              "Dep. Variable:                                       y   No. Observations:                  302\n",
              "Model:             SARIMAX(0, 1, 1)x(1, 1, [1, 2], 12)   Log Likelihood               -2862.936\n",
              "Date:                                 Tue, 02 Feb 2021   AIC                           5735.872\n",
              "Time:                                         20:29:38   BIC                           5754.204\n",
              "Sample:                                     01-01-1994   HQIC                          5743.217\n",
              "                                          - 02-01-2019                                         \n",
              "Covariance Type:                                   opg                                         \n",
              "==============================================================================\n",
              "                 coef    std err          z      P>|z|      [0.025      0.975]\n",
              "------------------------------------------------------------------------------\n",
              "ma.L1         -0.8217      0.034    -24.127      0.000      -0.888      -0.755\n",
              "ar.S.L12       0.9963      0.020     50.945      0.000       0.958       1.035\n",
              "ma.S.L12      -1.6092      0.049    -32.776      0.000      -1.705      -1.513\n",
              "ma.S.L24       0.6200      0.033     18.517      0.000       0.554       0.686\n",
              "sigma2      2.272e+07   3.69e-09   6.15e+15      0.000    2.27e+07    2.27e+07\n",
              "===================================================================================\n",
              "Ljung-Box (L1) (Q):                   0.25   Jarque-Bera (JB):              3694.51\n",
              "Prob(Q):                              0.62   Prob(JB):                         0.00\n",
              "Heteroskedasticity (H):              17.07   Skew:                             2.62\n",
              "Prob(H) (two-sided):                  0.00   Kurtosis:                        19.71\n",
              "===================================================================================\n",
              "\n",
              "Warnings:\n",
              "[1] Covariance matrix calculated using the outer product of gradients (complex-step).\n",
              "[2] Covariance matrix is singular or near-singular, with condition number 2.21e+30. Standard errors may be unstable.\n",
              "\"\"\""
            ]
          },
          "metadata": {
            "tags": []
          },
          "execution_count": 21
        }
      ]
    },
    {
      "cell_type": "code",
      "metadata": {
        "id": "EG8UdJ7gYN-1",
        "colab": {
          "base_uri": "https://localhost:8080/"
        },
        "outputId": "a5460277-8d67-4b46-ef6d-5b827f205477"
      },
      "source": [
        "arima_pred = arima_result.predict(start = len(train_data), end = len(df)-1, typ=\"levels\").rename(\"ARIMA Predictions\")\n",
        "arima_pred"
      ],
      "execution_count": null,
      "outputs": [
        {
          "output_type": "execute_result",
          "data": {
            "text/plain": [
              "2019-03-01    114538.221536\n",
              "2019-04-01    136135.889426\n",
              "2019-05-01    114385.365859\n",
              "2019-06-01    119389.395546\n",
              "2019-07-01    131883.349396\n",
              "2019-08-01    117439.879777\n",
              "2019-09-01    118629.422669\n",
              "2019-10-01    143127.237904\n",
              "2019-11-01    128216.866629\n",
              "2019-12-01    151476.405793\n",
              "2020-01-01    167102.885630\n",
              "2020-02-01    118813.306616\n",
              "Freq: MS, Name: ARIMA Predictions, dtype: float64"
            ]
          },
          "metadata": {
            "tags": []
          },
          "execution_count": 22
        }
      ]
    },
    {
      "cell_type": "code",
      "metadata": {
        "id": "xuothaJ1YN-2",
        "colab": {
          "base_uri": "https://localhost:8080/",
          "height": 345
        },
        "outputId": "214446c5-e482-4911-98a7-f3c6d7afe0ed"
      },
      "source": [
        "test_data['y'].plot(figsize = (16,5), legend=True)\n",
        "arima_pred.plot(legend = True);"
      ],
      "execution_count": null,
      "outputs": [
        {
          "output_type": "display_data",
          "data": {
            "image/png": "[encoded data removed]",
            "text/plain": [
              "<Figure size 1152x360 with 1 Axes>"
            ]
          },
          "metadata": {
            "tags": [],
            "needs_background": "light"
          }
        }
      ]
    },
    {
      "cell_type": "code",
      "metadata": {
        "id": "BgyjCRHDYN-2",
        "colab": {
          "base_uri": "https://localhost:8080/"
        },
        "outputId": "7b5377e7-4363-4e2d-9cd9-291ae0cb29d9"
      },
      "source": [
        "arima_rmse_error = rmse(test_data['y'], arima_pred)\n",
        "arima_mse_error = arima_rmse_error**2\n",
        "mean_value = df['y'].mean()\n",
        "\n",
        "print(f'MSE Error: {arima_mse_error}\\nRMSE Error: {arima_rmse_error}\\nMean: {mean_value}')"
      ],
      "execution_count": null,
      "outputs": [
        {
          "output_type": "stream",
          "text": [
            "MSE Error: 20859322.263930578\n",
            "RMSE Error: 4567.200703267876\n",
            "Mean: 54008.87898089172\n"
          ],
          "name": "stdout"
        }
      ]
    },
    {
      "cell_type": "code",
      "metadata": {
        "id": "cT1Ls93eYN-3"
      },
      "source": [
        "test_data['ARIMA_Predictions'] = arima_pred"
      ],
      "execution_count": null,
      "outputs": []
    },
    {
      "cell_type": "markdown",
      "metadata": {
        "id": "C5fWDZPvYN-3"
      },
      "source": [
        "## LSTM Forecast"
      ]
    },
    {
      "cell_type": "markdown",
      "metadata": {
        "id": "WRXv_f6PYN-3"
      },
      "source": [
        "First we'll scale our train and test data with MinMaxScaler"
      ]
    },
    {
      "cell_type": "code",
      "metadata": {
        "id": "ncAZwwYjYN-3"
      },
      "source": [
        "from sklearn.preprocessing import MinMaxScaler\n",
        "scaler = MinMaxScaler()"
      ],
      "execution_count": null,
      "outputs": []
    },
    {
      "cell_type": "code",
      "metadata": {
        "id": "dmaNcZBkYN-4"
      },
      "source": [
        "scaler.fit(train_data)\n",
        "scaled_train_data = scaler.transform(train_data)\n",
        "scaled_test_data = scaler.transform(test_data)"
      ],
      "execution_count": null,
      "outputs": []
    },
    {
      "cell_type": "markdown",
      "metadata": {
        "id": "LzI9MZueYN-4"
      },
      "source": [
        "Before creating LSTM model we should create a Time Series Generator object."
      ]
    },
    {
      "cell_type": "code",
      "metadata": {
        "id": "d3j1EkY5YN-4"
      },
      "source": [
        "from keras.preprocessing.sequence import TimeseriesGenerator\n",
        "\n",
        "n_input = 12\n",
        "n_features= 1\n",
        "generator = TimeseriesGenerator(scaled_train_data, scaled_train_data, length=n_input, batch_size=1)"
      ],
      "execution_count": null,
      "outputs": []
    },
    {
      "cell_type": "code",
      "metadata": {
        "id": "fvMV7u8bYN-5",
        "colab": {
          "base_uri": "https://localhost:8080/"
        },
        "outputId": "6b0c1f2a-194d-4e3c-a0fe-85cd6a6d6ccc"
      },
      "source": [
        "from keras.models import Sequential\n",
        "from keras.layers import Dense\n",
        "from keras.layers import LSTM\n",
        "\n",
        "lstm_model = Sequential()\n",
        "lstm_model.add(LSTM(200, activation='relu', input_shape=(n_input, n_features)))\n",
        "lstm_model.add(Dense(1))\n",
        "lstm_model.compile(optimizer='adam', loss='mse')\n",
        "\n",
        "lstm_model.summary()"
      ],
      "execution_count": null,
      "outputs": [
        {
          "output_type": "stream",
          "text": [
            "Model: \"sequential\"\n",
            "_________________________________________________________________\n",
            "Layer (type)                 Output Shape              Param #   \n",
            "=================================================================\n",
            "lstm (LSTM)                  (None, 200)               161600    \n",
            "_________________________________________________________________\n",
            "dense (Dense)                (None, 1)                 201       \n",
            "=================================================================\n",
            "Total params: 161,801\n",
            "Trainable params: 161,801\n",
            "Non-trainable params: 0\n",
            "_________________________________________________________________\n"
          ],
          "name": "stdout"
        }
      ]
    },
    {
      "cell_type": "code",
      "metadata": {
        "id": "SeiStbe1YN-5",
        "colab": {
          "base_uri": "https://localhost:8080/"
        },
        "outputId": "b7827b1c-a7e0-4709-cf43-4e0577573a82"
      },
      "source": [
        "lstm_model.fit_generator(generator,epochs=20)"
      ],
      "execution_count": null,
      "outputs": [
        {
          "output_type": "stream",
          "text": [
            "Epoch 1/20\n",
            "290/290 [==============================] - 4s 10ms/step - loss: 0.0269\n",
            "Epoch 2/20\n",
            "290/290 [==============================] - 3s 10ms/step - loss: 0.0047\n",
            "Epoch 3/20\n",
            "290/290 [==============================] - 3s 10ms/step - loss: 0.0073\n",
            "Epoch 4/20\n",
            "290/290 [==============================] - 3s 10ms/step - loss: 0.0043\n",
            "Epoch 5/20\n",
            "290/290 [==============================] - 3s 10ms/step - loss: 0.0052\n",
            "Epoch 6/20\n",
            "290/290 [==============================] - 3s 10ms/step - loss: 0.0043\n",
            "Epoch 7/20\n",
            "290/290 [==============================] - 3s 10ms/step - loss: 0.0039\n",
            "Epoch 8/20\n",
            "290/290 [==============================] - 3s 10ms/step - loss: 0.0046\n",
            "Epoch 9/20\n",
            "290/290 [==============================] - 3s 10ms/step - loss: 0.0050\n",
            "Epoch 10/20\n",
            "290/290 [==============================] - 3s 10ms/step - loss: 0.0029\n",
            "Epoch 11/20\n",
            "290/290 [==============================] - 3s 10ms/step - loss: 0.0020\n",
            "Epoch 12/20\n",
            "290/290 [==============================] - 3s 10ms/step - loss: 0.0029\n",
            "Epoch 13/20\n",
            "290/290 [==============================] - 3s 10ms/step - loss: 0.0023\n",
            "Epoch 14/20\n",
            "290/290 [==============================] - 3s 10ms/step - loss: 0.0022\n",
            "Epoch 15/20\n",
            "290/290 [==============================] - 3s 10ms/step - loss: 0.0015\n",
            "Epoch 16/20\n",
            "290/290 [==============================] - 3s 10ms/step - loss: 0.0013\n",
            "Epoch 17/20\n",
            "290/290 [==============================] - 3s 10ms/step - loss: 0.0021\n",
            "Epoch 18/20\n",
            "290/290 [==============================] - 3s 10ms/step - loss: 0.0026\n",
            "Epoch 19/20\n",
            "290/290 [==============================] - 3s 10ms/step - loss: 0.0019\n",
            "Epoch 20/20\n",
            "290/290 [==============================] - 3s 10ms/step - loss: 0.0016\n"
          ],
          "name": "stdout"
        },
        {
          "output_type": "execute_result",
          "data": {
            "text/plain": [
              "<tensorflow.python.keras.callbacks.History at 0x7f1d9d2b7160>"
            ]
          },
          "metadata": {
            "tags": []
          },
          "execution_count": 30
        }
      ]
    },
    {
      "cell_type": "code",
      "metadata": {
        "id": "890pbfDGYN-6",
        "colab": {
          "base_uri": "https://localhost:8080/",
          "height": 279
        },
        "outputId": "b2147167-162c-4493-d8ca-65cf49e9a160"
      },
      "source": [
        "losses_lstm = lstm_model.history.history['loss']\n",
        "plt.figure(figsize=(12,4))\n",
        "plt.xlabel(\"Epochs\")\n",
        "plt.ylabel(\"Loss\")\n",
        "plt.xticks(np.arange(0,21,1))\n",
        "plt.plot(range(len(losses_lstm)),losses_lstm);"
      ],
      "execution_count": null,
      "outputs": [
        {
          "output_type": "display_data",
          "data": {
            "image/png": "[encoded data removed]",
            "text/plain": [
              "<Figure size 864x288 with 1 Axes>"
            ]
          },
          "metadata": {
            "tags": [],
            "needs_background": "light"
          }
        }
      ]
    },
    {
      "cell_type": "code",
      "metadata": {
        "id": "Eu_BWXO5YN-6"
      },
      "source": [
        "lstm_predictions_scaled = list()\n",
        "\n",
        "batch = scaled_train_data[-n_input:]\n",
        "current_batch = batch.reshape((1, n_input, n_features))\n",
        "\n",
        "for i in range(len(test_data)):   \n",
        "    lstm_pred = lstm_model.predict(current_batch)[0]\n",
        "    lstm_predictions_scaled.append(lstm_pred) \n",
        "    current_batch = np.append(current_batch[:,1:,:],[[lstm_pred]],axis=1)"
      ],
      "execution_count": null,
      "outputs": []
    },
    {
      "cell_type": "markdown",
      "metadata": {
        "id": "AheWRJRKYN-7"
      },
      "source": [
        "As you know we scaled our data that's why we have to inverse it to see true predictions."
      ]
    },
    {
      "cell_type": "code",
      "metadata": {
        "id": "FK59C4E7YN-8",
        "colab": {
          "base_uri": "https://localhost:8080/"
        },
        "outputId": "b351e567-af32-4655-bf05-1aac6ee15884"
      },
      "source": [
        "lstm_predictions_scaled"
      ],
      "execution_count": null,
      "outputs": [
        {
          "output_type": "execute_result",
          "data": {
            "text/plain": [
              "[array([0.7392362], dtype=float32),\n",
              " array([0.85764617], dtype=float32),\n",
              " array([0.74661165], dtype=float32),\n",
              " array([0.7634965], dtype=float32),\n",
              " array([0.8542656], dtype=float32),\n",
              " array([0.7650373], dtype=float32),\n",
              " array([0.7677406], dtype=float32),\n",
              " array([0.87268454], dtype=float32),\n",
              " array([0.8191243], dtype=float32),\n",
              " array([0.93390137], dtype=float32),\n",
              " array([1.0454565], dtype=float32),\n",
              " array([0.8151505], dtype=float32)]"
            ]
          },
          "metadata": {
            "tags": []
          },
          "execution_count": 33
        }
      ]
    },
    {
      "cell_type": "code",
      "metadata": {
        "id": "zDnqN9hxYN-8"
      },
      "source": [
        "lstm_predictions = scaler.inverse_transform(lstm_predictions_scaled)"
      ],
      "execution_count": null,
      "outputs": []
    },
    {
      "cell_type": "code",
      "metadata": {
        "id": "6rsEWKetYN-8",
        "colab": {
          "base_uri": "https://localhost:8080/"
        },
        "outputId": "4732b469-ecc6-41a7-92a1-fb1f5222e4ff"
      },
      "source": [
        "lstm_predictions"
      ],
      "execution_count": null,
      "outputs": [
        {
          "output_type": "execute_result",
          "data": {
            "text/plain": [
              "array([[119725.20006078],\n",
              "       [138206.9867273 ],\n",
              "       [120876.38690966],\n",
              "       [123511.82704008],\n",
              "       [137679.33306229],\n",
              "       [123752.31661534],\n",
              "       [124174.25720322],\n",
              "       [140554.22080153],\n",
              "       [132194.37521476],\n",
              "       [150109.12746686],\n",
              "       [167520.99136341],\n",
              "       [131574.13538909]])"
            ]
          },
          "metadata": {
            "tags": []
          },
          "execution_count": 35
        }
      ]
    },
    {
      "cell_type": "code",
      "metadata": {
        "id": "pEeF1MV8YN-9"
      },
      "source": [
        "test_data['LSTM_Predictions'] = lstm_predictions"
      ],
      "execution_count": null,
      "outputs": []
    },
    {
      "cell_type": "code",
      "metadata": {
        "id": "711Okda3YN-9",
        "colab": {
          "base_uri": "https://localhost:8080/",
          "height": 452
        },
        "outputId": "60f67379-579b-48a8-e0c2-628fd6138385"
      },
      "source": [
        "test_data"
      ],
      "execution_count": null,
      "outputs": [
        {
          "output_type": "execute_result",
          "data": {
            "text/html": [
              "<div>\n",
              "<style scoped>\n",
              "    .dataframe tbody tr th:only-of-type {\n",
              "        vertical-align: middle;\n",
              "    }\n",
              "\n",
              "    .dataframe tbody tr th {\n",
              "        vertical-align: top;\n",
              "    }\n",
              "\n",
              "    .dataframe thead th {\n",
              "        text-align: right;\n",
              "    }\n",
              "</style>\n",
              "<table border=\"1\" class=\"dataframe\">\n",
              "  <thead>\n",
              "    <tr style=\"text-align: right;\">\n",
              "      <th></th>\n",
              "      <th>y</th>\n",
              "      <th>ARIMA_Predictions</th>\n",
              "      <th>LSTM_Predictions</th>\n",
              "    </tr>\n",
              "    <tr>\n",
              "      <th>ds</th>\n",
              "      <th></th>\n",
              "      <th></th>\n",
              "      <th></th>\n",
              "    </tr>\n",
              "  </thead>\n",
              "  <tbody>\n",
              "    <tr>\n",
              "      <th>2019-03-01</th>\n",
              "      <td>109854</td>\n",
              "      <td>114538.221536</td>\n",
              "      <td>119725.200061</td>\n",
              "    </tr>\n",
              "    <tr>\n",
              "      <th>2019-04-01</th>\n",
              "      <td>139030</td>\n",
              "      <td>136135.889426</td>\n",
              "      <td>138206.986727</td>\n",
              "    </tr>\n",
              "    <tr>\n",
              "      <th>2019-05-01</th>\n",
              "      <td>113278</td>\n",
              "      <td>114385.365859</td>\n",
              "      <td>120876.386910</td>\n",
              "    </tr>\n",
              "    <tr>\n",
              "      <th>2019-06-01</th>\n",
              "      <td>119946</td>\n",
              "      <td>119389.395546</td>\n",
              "      <td>123511.827040</td>\n",
              "    </tr>\n",
              "    <tr>\n",
              "      <th>2019-07-01</th>\n",
              "      <td>137735</td>\n",
              "      <td>131883.349396</td>\n",
              "      <td>137679.333062</td>\n",
              "    </tr>\n",
              "    <tr>\n",
              "      <th>2019-08-01</th>\n",
              "      <td>119951</td>\n",
              "      <td>117439.879777</td>\n",
              "      <td>123752.316615</td>\n",
              "    </tr>\n",
              "    <tr>\n",
              "      <th>2019-09-01</th>\n",
              "      <td>113933</td>\n",
              "      <td>118629.422669</td>\n",
              "      <td>124174.257203</td>\n",
              "    </tr>\n",
              "    <tr>\n",
              "      <th>2019-10-01</th>\n",
              "      <td>135202</td>\n",
              "      <td>143127.237904</td>\n",
              "      <td>140554.220802</td>\n",
              "    </tr>\n",
              "    <tr>\n",
              "      <th>2019-11-01</th>\n",
              "      <td>125161</td>\n",
              "      <td>128216.866629</td>\n",
              "      <td>132194.375215</td>\n",
              "    </tr>\n",
              "    <tr>\n",
              "      <th>2019-12-01</th>\n",
              "      <td>147501</td>\n",
              "      <td>151476.405793</td>\n",
              "      <td>150109.127467</td>\n",
              "    </tr>\n",
              "    <tr>\n",
              "      <th>2020-01-01</th>\n",
              "      <td>174991</td>\n",
              "      <td>167102.885630</td>\n",
              "      <td>167520.991363</td>\n",
              "    </tr>\n",
              "    <tr>\n",
              "      <th>2020-02-01</th>\n",
              "      <td>116430</td>\n",
              "      <td>118813.306616</td>\n",
              "      <td>131574.135389</td>\n",
              "    </tr>\n",
              "  </tbody>\n",
              "</table>\n",
              "</div>"
            ],
            "text/plain": [
              "                 y  ARIMA_Predictions  LSTM_Predictions\n",
              "ds                                                     \n",
              "2019-03-01  109854      114538.221536     119725.200061\n",
              "2019-04-01  139030      136135.889426     138206.986727\n",
              "2019-05-01  113278      114385.365859     120876.386910\n",
              "2019-06-01  119946      119389.395546     123511.827040\n",
              "2019-07-01  137735      131883.349396     137679.333062\n",
              "2019-08-01  119951      117439.879777     123752.316615\n",
              "2019-09-01  113933      118629.422669     124174.257203\n",
              "2019-10-01  135202      143127.237904     140554.220802\n",
              "2019-11-01  125161      128216.866629     132194.375215\n",
              "2019-12-01  147501      151476.405793     150109.127467\n",
              "2020-01-01  174991      167102.885630     167520.991363\n",
              "2020-02-01  116430      118813.306616     131574.135389"
            ]
          },
          "metadata": {
            "tags": []
          },
          "execution_count": 37
        }
      ]
    },
    {
      "cell_type": "code",
      "metadata": {
        "id": "yQLhOBoEYN-9",
        "colab": {
          "base_uri": "https://localhost:8080/",
          "height": 345
        },
        "outputId": "428ebb29-688c-48d1-e941-eef1cbb853ba"
      },
      "source": [
        "test_data['y'].plot(figsize = (16,5), legend=True)\n",
        "test_data['LSTM_Predictions'].plot(legend = True);"
      ],
      "execution_count": null,
      "outputs": [
        {
          "output_type": "display_data",
          "data": {
            "image/png": "[encoded data removed]",
            "text/plain": [
              "<Figure size 1152x360 with 1 Axes>"
            ]
          },
          "metadata": {
            "tags": [],
            "needs_background": "light"
          }
        }
      ]
    },
    {
      "cell_type": "code",
      "metadata": {
        "id": "9C_gkJg2YN--",
        "colab": {
          "base_uri": "https://localhost:8080/"
        },
        "outputId": "76da6054-da03-4b54-87ce-1edd94944133"
      },
      "source": [
        "lstm_rmse_error = rmse(test_data['y'], test_data[\"LSTM_Predictions\"])\n",
        "lstm_mse_error = lstm_rmse_error**2\n",
        "mean_value = df['y'].mean()\n",
        "\n",
        "print(f'MSE Error: {lstm_mse_error}\\nRMSE Error: {lstm_rmse_error}\\nMean: {mean_value}')"
      ],
      "execution_count": null,
      "outputs": [
        {
          "output_type": "stream",
          "text": [
            "MSE Error: 54830652.711122535\n",
            "RMSE Error: 7404.772292996087\n",
            "Mean: 54008.87898089172\n"
          ],
          "name": "stdout"
        }
      ]
    },
    {
      "cell_type": "markdown",
      "metadata": {
        "id": "Tujc0yWDYN--"
      },
      "source": [
        "## Prophet Forecast"
      ]
    },
    {
      "cell_type": "code",
      "metadata": {
        "id": "lEqZlWHMYN--",
        "colab": {
          "base_uri": "https://localhost:8080/"
        },
        "outputId": "84225a4f-67d4-4e59-c7d6-fafd0b122a0f"
      },
      "source": [
        "df.info()"
      ],
      "execution_count": null,
      "outputs": [
        {
          "output_type": "stream",
          "text": [
            "<class 'pandas.core.frame.DataFrame'>\n",
            "DatetimeIndex: 314 entries, 1994-01-01 to 2020-02-01\n",
            "Data columns (total 1 columns):\n",
            " #   Column  Non-Null Count  Dtype\n",
            "---  ------  --------------  -----\n",
            " 0   y       314 non-null    int64\n",
            "dtypes: int64(1)\n",
            "memory usage: 4.9 KB\n"
          ],
          "name": "stdout"
        }
      ]
    },
    {
      "cell_type": "code",
      "metadata": {
        "id": "zxVmpWedYN_A"
      },
      "source": [
        "df_pr = df.copy()\n",
        "df_pr = df.reset_index()"
      ],
      "execution_count": null,
      "outputs": []
    },
    {
      "cell_type": "code",
      "metadata": {
        "id": "Eh-39Fe1YN_B"
      },
      "source": [
        "df_pr.columns = ['ds','y'] # To use prophet column names should be like that"
      ],
      "execution_count": null,
      "outputs": []
    },
    {
      "cell_type": "code",
      "metadata": {
        "id": "P4merviXYN_B"
      },
      "source": [
        "train_data_pr = df_pr.iloc[:len(df)-12]\n",
        "test_data_pr = df_pr.iloc[len(df)-12:]"
      ],
      "execution_count": null,
      "outputs": []
    },
    {
      "cell_type": "code",
      "metadata": {
        "id": "YyjednobYN_B"
      },
      "source": [
        "from fbprophet import Prophet"
      ],
      "execution_count": null,
      "outputs": []
    },
    {
      "cell_type": "code",
      "metadata": {
        "id": "ct5ovC2_YN_B",
        "colab": {
          "base_uri": "https://localhost:8080/"
        },
        "outputId": "f3335d78-8e29-4d0d-d207-76aecd8293aa"
      },
      "source": [
        "m = Prophet()\n",
        "m.fit(train_data_pr)\n",
        "future = m.make_future_dataframe(periods=12,freq='MS')\n",
        "prophet_pred = m.predict(future)"
      ],
      "execution_count": null,
      "outputs": [
        {
          "output_type": "stream",
          "text": [
            "INFO:numexpr.utils:NumExpr defaulting to 2 threads.\n",
            "INFO:fbprophet:Disabling weekly seasonality. Run prophet with weekly_seasonality=True to override this.\n",
            "INFO:fbprophet:Disabling daily seasonality. Run prophet with daily_seasonality=True to override this.\n"
          ],
          "name": "stderr"
        }
      ]
    },
    {
      "cell_type": "code",
      "metadata": {
        "id": "OgDwysBsYN_B",
        "colab": {
          "base_uri": "https://localhost:8080/",
          "height": 309
        },
        "outputId": "ed0540e8-30b1-4e2e-e187-dbb161b2cf29"
      },
      "source": [
        "prophet_pred.tail()"
      ],
      "execution_count": null,
      "outputs": [
        {
          "output_type": "execute_result",
          "data": {
            "text/html": [
              "<div>\n",
              "<style scoped>\n",
              "    .dataframe tbody tr th:only-of-type {\n",
              "        vertical-align: middle;\n",
              "    }\n",
              "\n",
              "    .dataframe tbody tr th {\n",
              "        vertical-align: top;\n",
              "    }\n",
              "\n",
              "    .dataframe thead th {\n",
              "        text-align: right;\n",
              "    }\n",
              "</style>\n",
              "<table border=\"1\" class=\"dataframe\">\n",
              "  <thead>\n",
              "    <tr style=\"text-align: right;\">\n",
              "      <th></th>\n",
              "      <th>ds</th>\n",
              "      <th>trend</th>\n",
              "      <th>yhat_lower</th>\n",
              "      <th>yhat_upper</th>\n",
              "      <th>trend_lower</th>\n",
              "      <th>trend_upper</th>\n",
              "      <th>additive_terms</th>\n",
              "      <th>additive_terms_lower</th>\n",
              "      <th>additive_terms_upper</th>\n",
              "      <th>yearly</th>\n",
              "      <th>yearly_lower</th>\n",
              "      <th>yearly_upper</th>\n",
              "      <th>multiplicative_terms</th>\n",
              "      <th>multiplicative_terms_lower</th>\n",
              "      <th>multiplicative_terms_upper</th>\n",
              "      <th>yhat</th>\n",
              "    </tr>\n",
              "  </thead>\n",
              "  <tbody>\n",
              "    <tr>\n",
              "      <th>309</th>\n",
              "      <td>2019-10-01</td>\n",
              "      <td>130300.817556</td>\n",
              "      <td>123796.961403</td>\n",
              "      <td>140471.688298</td>\n",
              "      <td>130213.223521</td>\n",
              "      <td>130372.631404</td>\n",
              "      <td>1418.326357</td>\n",
              "      <td>1418.326357</td>\n",
              "      <td>1418.326357</td>\n",
              "      <td>1418.326357</td>\n",
              "      <td>1418.326357</td>\n",
              "      <td>1418.326357</td>\n",
              "      <td>0.0</td>\n",
              "      <td>0.0</td>\n",
              "      <td>0.0</td>\n",
              "      <td>131719.143913</td>\n",
              "    </tr>\n",
              "    <tr>\n",
              "      <th>310</th>\n",
              "      <td>2019-11-01</td>\n",
              "      <td>130823.588015</td>\n",
              "      <td>121153.277475</td>\n",
              "      <td>137842.520112</td>\n",
              "      <td>130712.960849</td>\n",
              "      <td>130917.072292</td>\n",
              "      <td>-1459.864093</td>\n",
              "      <td>-1459.864093</td>\n",
              "      <td>-1459.864093</td>\n",
              "      <td>-1459.864093</td>\n",
              "      <td>-1459.864093</td>\n",
              "      <td>-1459.864093</td>\n",
              "      <td>0.0</td>\n",
              "      <td>0.0</td>\n",
              "      <td>0.0</td>\n",
              "      <td>129363.723922</td>\n",
              "    </tr>\n",
              "    <tr>\n",
              "      <th>311</th>\n",
              "      <td>2019-12-01</td>\n",
              "      <td>131329.494911</td>\n",
              "      <td>132000.857045</td>\n",
              "      <td>149278.147305</td>\n",
              "      <td>131187.374581</td>\n",
              "      <td>131447.812317</td>\n",
              "      <td>8765.316037</td>\n",
              "      <td>8765.316037</td>\n",
              "      <td>8765.316037</td>\n",
              "      <td>8765.316037</td>\n",
              "      <td>8765.316037</td>\n",
              "      <td>8765.316037</td>\n",
              "      <td>0.0</td>\n",
              "      <td>0.0</td>\n",
              "      <td>0.0</td>\n",
              "      <td>140094.810948</td>\n",
              "    </tr>\n",
              "    <tr>\n",
              "      <th>312</th>\n",
              "      <td>2020-01-01</td>\n",
              "      <td>131852.265370</td>\n",
              "      <td>133220.860260</td>\n",
              "      <td>149326.897148</td>\n",
              "      <td>131680.178460</td>\n",
              "      <td>131995.601113</td>\n",
              "      <td>9478.612595</td>\n",
              "      <td>9478.612595</td>\n",
              "      <td>9478.612595</td>\n",
              "      <td>9478.612595</td>\n",
              "      <td>9478.612595</td>\n",
              "      <td>9478.612595</td>\n",
              "      <td>0.0</td>\n",
              "      <td>0.0</td>\n",
              "      <td>0.0</td>\n",
              "      <td>141330.877965</td>\n",
              "    </tr>\n",
              "    <tr>\n",
              "      <th>313</th>\n",
              "      <td>2020-02-01</td>\n",
              "      <td>132375.035829</td>\n",
              "      <td>117036.781621</td>\n",
              "      <td>133945.566286</td>\n",
              "      <td>132161.452066</td>\n",
              "      <td>132548.654124</td>\n",
              "      <td>-7083.369400</td>\n",
              "      <td>-7083.369400</td>\n",
              "      <td>-7083.369400</td>\n",
              "      <td>-7083.369400</td>\n",
              "      <td>-7083.369400</td>\n",
              "      <td>-7083.369400</td>\n",
              "      <td>0.0</td>\n",
              "      <td>0.0</td>\n",
              "      <td>0.0</td>\n",
              "      <td>125291.666429</td>\n",
              "    </tr>\n",
              "  </tbody>\n",
              "</table>\n",
              "</div>"
            ],
            "text/plain": [
              "            ds          trend  ...  multiplicative_terms_upper           yhat\n",
              "309 2019-10-01  130300.817556  ...                         0.0  131719.143913\n",
              "310 2019-11-01  130823.588015  ...                         0.0  129363.723922\n",
              "311 2019-12-01  131329.494911  ...                         0.0  140094.810948\n",
              "312 2020-01-01  131852.265370  ...                         0.0  141330.877965\n",
              "313 2020-02-01  132375.035829  ...                         0.0  125291.666429\n",
              "\n",
              "[5 rows x 16 columns]"
            ]
          },
          "metadata": {
            "tags": []
          },
          "execution_count": 46
        }
      ]
    },
    {
      "cell_type": "code",
      "metadata": {
        "id": "U-c6xiCJYN_C"
      },
      "source": [
        "prophet_pred = pd.DataFrame({\"Date\" : prophet_pred[-12:]['ds'], \"Pred\" : prophet_pred[-12:][\"yhat\"]})"
      ],
      "execution_count": null,
      "outputs": []
    },
    {
      "cell_type": "code",
      "metadata": {
        "id": "SWlR4HBSYN_C"
      },
      "source": [
        "prophet_pred = prophet_pred.set_index(\"Date\")"
      ],
      "execution_count": null,
      "outputs": []
    },
    {
      "cell_type": "code",
      "metadata": {
        "id": "CT1tOZ5oYN_C"
      },
      "source": [
        "prophet_pred.index.freq = \"MS\""
      ],
      "execution_count": null,
      "outputs": []
    },
    {
      "cell_type": "code",
      "metadata": {
        "id": "oI751sbVYN_C",
        "colab": {
          "base_uri": "https://localhost:8080/",
          "height": 452
        },
        "outputId": "efb41460-ebe5-44cf-f28e-5f6653516232"
      },
      "source": [
        "prophet_pred"
      ],
      "execution_count": null,
      "outputs": [
        {
          "output_type": "execute_result",
          "data": {
            "text/html": [
              "<div>\n",
              "<style scoped>\n",
              "    .dataframe tbody tr th:only-of-type {\n",
              "        vertical-align: middle;\n",
              "    }\n",
              "\n",
              "    .dataframe tbody tr th {\n",
              "        vertical-align: top;\n",
              "    }\n",
              "\n",
              "    .dataframe thead th {\n",
              "        text-align: right;\n",
              "    }\n",
              "</style>\n",
              "<table border=\"1\" class=\"dataframe\">\n",
              "  <thead>\n",
              "    <tr style=\"text-align: right;\">\n",
              "      <th></th>\n",
              "      <th>Pred</th>\n",
              "    </tr>\n",
              "    <tr>\n",
              "      <th>Date</th>\n",
              "      <th></th>\n",
              "    </tr>\n",
              "  </thead>\n",
              "  <tbody>\n",
              "    <tr>\n",
              "      <th>2019-03-01</th>\n",
              "      <td>121630.326801</td>\n",
              "    </tr>\n",
              "    <tr>\n",
              "      <th>2019-04-01</th>\n",
              "      <td>129922.933794</td>\n",
              "    </tr>\n",
              "    <tr>\n",
              "      <th>2019-05-01</th>\n",
              "      <td>121583.844712</td>\n",
              "    </tr>\n",
              "    <tr>\n",
              "      <th>2019-06-01</th>\n",
              "      <td>125117.610239</td>\n",
              "    </tr>\n",
              "    <tr>\n",
              "      <th>2019-07-01</th>\n",
              "      <td>129526.413885</td>\n",
              "    </tr>\n",
              "    <tr>\n",
              "      <th>2019-08-01</th>\n",
              "      <td>125666.318949</td>\n",
              "    </tr>\n",
              "    <tr>\n",
              "      <th>2019-09-01</th>\n",
              "      <td>126033.950733</td>\n",
              "    </tr>\n",
              "    <tr>\n",
              "      <th>2019-10-01</th>\n",
              "      <td>131719.143913</td>\n",
              "    </tr>\n",
              "    <tr>\n",
              "      <th>2019-11-01</th>\n",
              "      <td>129363.723922</td>\n",
              "    </tr>\n",
              "    <tr>\n",
              "      <th>2019-12-01</th>\n",
              "      <td>140094.810948</td>\n",
              "    </tr>\n",
              "    <tr>\n",
              "      <th>2020-01-01</th>\n",
              "      <td>141330.877965</td>\n",
              "    </tr>\n",
              "    <tr>\n",
              "      <th>2020-02-01</th>\n",
              "      <td>125291.666429</td>\n",
              "    </tr>\n",
              "  </tbody>\n",
              "</table>\n",
              "</div>"
            ],
            "text/plain": [
              "                     Pred\n",
              "Date                     \n",
              "2019-03-01  121630.326801\n",
              "2019-04-01  129922.933794\n",
              "2019-05-01  121583.844712\n",
              "2019-06-01  125117.610239\n",
              "2019-07-01  129526.413885\n",
              "2019-08-01  125666.318949\n",
              "2019-09-01  126033.950733\n",
              "2019-10-01  131719.143913\n",
              "2019-11-01  129363.723922\n",
              "2019-12-01  140094.810948\n",
              "2020-01-01  141330.877965\n",
              "2020-02-01  125291.666429"
            ]
          },
          "metadata": {
            "tags": []
          },
          "execution_count": 50
        }
      ]
    },
    {
      "cell_type": "code",
      "metadata": {
        "id": "132xcVZvYN_D"
      },
      "source": [
        "test_data[\"Prophet_Predictions\"] = prophet_pred['Pred'].values"
      ],
      "execution_count": null,
      "outputs": []
    },
    {
      "cell_type": "code",
      "metadata": {
        "id": "JvJAxprBYN_D"
      },
      "source": [
        "import seaborn as sns"
      ],
      "execution_count": null,
      "outputs": []
    },
    {
      "cell_type": "code",
      "metadata": {
        "id": "D0Xk1emyYN_D",
        "colab": {
          "base_uri": "https://localhost:8080/",
          "height": 334
        },
        "outputId": "0a4840f3-e414-466b-becf-4058727be299"
      },
      "source": [
        "plt.figure(figsize=(16,5))\n",
        "ax = sns.lineplot(x= test_data.index, y=test_data[\"y\"])\n",
        "sns.lineplot(x=test_data.index, y = test_data[\"Prophet_Predictions\"]);"
      ],
      "execution_count": null,
      "outputs": [
        {
          "output_type": "display_data",
          "data": {
            "image/png": "[encoded data removed]",
            "text/plain": [
              "<Figure size 1152x360 with 1 Axes>"
            ]
          },
          "metadata": {
            "tags": [],
            "needs_background": "light"
          }
        }
      ]
    },
    {
      "cell_type": "code",
      "metadata": {
        "id": "QkO_se-iYN_D",
        "colab": {
          "base_uri": "https://localhost:8080/"
        },
        "outputId": "df9c9b43-196d-49b1-9f9c-c0219726708c"
      },
      "source": [
        "prophet_rmse_error = rmse(test_data['y'], test_data[\"Prophet_Predictions\"])\n",
        "prophet_mse_error = prophet_rmse_error**2\n",
        "mean_value = df['y'].mean()\n",
        "\n",
        "print(f'MSE Error: {prophet_mse_error}\\nRMSE Error: {prophet_rmse_error}\\nMean: {mean_value}')"
      ],
      "execution_count": null,
      "outputs": [
        {
          "output_type": "stream",
          "text": [
            "MSE Error: 155000805.03770056\n",
            "RMSE Error: 12449.931929038832\n",
            "Mean: 54008.87898089172\n"
          ],
          "name": "stdout"
        }
      ]
    },
    {
      "cell_type": "code",
      "metadata": {
        "id": "wZHhmZkWYN_E"
      },
      "source": [
        "rmse_errors = [arima_rmse_error, lstm_rmse_error, prophet_rmse_error]\n",
        "mse_errors = [arima_mse_error, lstm_mse_error, prophet_mse_error]\n",
        "errors = pd.DataFrame({\"Models\" : [\"ARIMA\", \"LSTM\", \"Prophet\"],\"RMSE Errors\" : rmse_errors, \"MSE Errors\" : mse_errors})"
      ],
      "execution_count": null,
      "outputs": []
    },
    {
      "cell_type": "code",
      "metadata": {
        "id": "iY8gaAvXYN_E",
        "colab": {
          "base_uri": "https://localhost:8080/",
          "height": 554
        },
        "outputId": "df5da492-4655-4c3c-b86b-d9fbed18304f"
      },
      "source": [
        "plt.figure(figsize=(16,9))\n",
        "plt.plot_date(test_data.index, test_data[\"y\"], linestyle=\"-\")\n",
        "plt.plot_date(test_data.index, test_data[\"ARIMA_Predictions\"], linestyle=\"-.\")\n",
        "plt.plot_date(test_data.index, test_data[\"LSTM_Predictions\"], linestyle=\"--\")\n",
        "plt.plot_date(test_data.index, test_data[\"Prophet_Predictions\"], linestyle=\":\")\n",
        "plt.legend()\n",
        "plt.show()"
      ],
      "execution_count": null,
      "outputs": [
        {
          "output_type": "stream",
          "text": [
            "WARNING:matplotlib.legend:No handles with labels found to put in legend.\n"
          ],
          "name": "stderr"
        },
        {
          "output_type": "display_data",
          "data": {
            "image/png": "[encoded data removed]",
            "text/plain": [
              "<Figure size 1152x648 with 1 Axes>"
            ]
          },
          "metadata": {
            "tags": [],
            "needs_background": "light"
          }
        }
      ]
    },
    {
      "cell_type": "code",
      "metadata": {
        "id": "j3R8NkC5YN_E",
        "colab": {
          "base_uri": "https://localhost:8080/",
          "height": 159
        },
        "outputId": "d558415e-a4ee-4adc-8809-eef4ca6c1d01"
      },
      "source": [
        "print(f\"Mean: {test_data['y'].mean()}\")\n",
        "errors"
      ],
      "execution_count": null,
      "outputs": [
        {
          "output_type": "stream",
          "text": [
            "Mean: 129417.66666666667\n"
          ],
          "name": "stdout"
        },
        {
          "output_type": "execute_result",
          "data": {
            "text/html": [
              "<div>\n",
              "<style scoped>\n",
              "    .dataframe tbody tr th:only-of-type {\n",
              "        vertical-align: middle;\n",
              "    }\n",
              "\n",
              "    .dataframe tbody tr th {\n",
              "        vertical-align: top;\n",
              "    }\n",
              "\n",
              "    .dataframe thead th {\n",
              "        text-align: right;\n",
              "    }\n",
              "</style>\n",
              "<table border=\"1\" class=\"dataframe\">\n",
              "  <thead>\n",
              "    <tr style=\"text-align: right;\">\n",
              "      <th></th>\n",
              "      <th>Models</th>\n",
              "      <th>RMSE Errors</th>\n",
              "      <th>MSE Errors</th>\n",
              "    </tr>\n",
              "  </thead>\n",
              "  <tbody>\n",
              "    <tr>\n",
              "      <th>0</th>\n",
              "      <td>ARIMA</td>\n",
              "      <td>4567.200703</td>\n",
              "      <td>2.085932e+07</td>\n",
              "    </tr>\n",
              "    <tr>\n",
              "      <th>1</th>\n",
              "      <td>LSTM</td>\n",
              "      <td>7404.772293</td>\n",
              "      <td>5.483065e+07</td>\n",
              "    </tr>\n",
              "    <tr>\n",
              "      <th>2</th>\n",
              "      <td>Prophet</td>\n",
              "      <td>12449.931929</td>\n",
              "      <td>1.550008e+08</td>\n",
              "    </tr>\n",
              "  </tbody>\n",
              "</table>\n",
              "</div>"
            ],
            "text/plain": [
              "    Models   RMSE Errors    MSE Errors\n",
              "0    ARIMA   4567.200703  2.085932e+07\n",
              "1     LSTM   7404.772293  5.483065e+07\n",
              "2  Prophet  12449.931929  1.550008e+08"
            ]
          },
          "metadata": {
            "tags": []
          },
          "execution_count": 58
        }
      ]
    },
    {
      "cell_type": "code",
      "metadata": {
        "id": "fbIqYdmfYN_F",
        "colab": {
          "base_uri": "https://localhost:8080/",
          "height": 452
        },
        "outputId": "f289a130-721f-4162-966f-4fab1bd07cf2"
      },
      "source": [
        "test_data"
      ],
      "execution_count": null,
      "outputs": [
        {
          "output_type": "execute_result",
          "data": {
            "text/html": [
              "<div>\n",
              "<style scoped>\n",
              "    .dataframe tbody tr th:only-of-type {\n",
              "        vertical-align: middle;\n",
              "    }\n",
              "\n",
              "    .dataframe tbody tr th {\n",
              "        vertical-align: top;\n",
              "    }\n",
              "\n",
              "    .dataframe thead th {\n",
              "        text-align: right;\n",
              "    }\n",
              "</style>\n",
              "<table border=\"1\" class=\"dataframe\">\n",
              "  <thead>\n",
              "    <tr style=\"text-align: right;\">\n",
              "      <th></th>\n",
              "      <th>y</th>\n",
              "      <th>ARIMA_Predictions</th>\n",
              "      <th>LSTM_Predictions</th>\n",
              "      <th>Prophet_Predictions</th>\n",
              "    </tr>\n",
              "    <tr>\n",
              "      <th>ds</th>\n",
              "      <th></th>\n",
              "      <th></th>\n",
              "      <th></th>\n",
              "      <th></th>\n",
              "    </tr>\n",
              "  </thead>\n",
              "  <tbody>\n",
              "    <tr>\n",
              "      <th>2019-03-01</th>\n",
              "      <td>109854</td>\n",
              "      <td>114538.221536</td>\n",
              "      <td>119725.200061</td>\n",
              "      <td>121630.326801</td>\n",
              "    </tr>\n",
              "    <tr>\n",
              "      <th>2019-04-01</th>\n",
              "      <td>139030</td>\n",
              "      <td>136135.889426</td>\n",
              "      <td>138206.986727</td>\n",
              "      <td>129922.933794</td>\n",
              "    </tr>\n",
              "    <tr>\n",
              "      <th>2019-05-01</th>\n",
              "      <td>113278</td>\n",
              "      <td>114385.365859</td>\n",
              "      <td>120876.386910</td>\n",
              "      <td>121583.844712</td>\n",
              "    </tr>\n",
              "    <tr>\n",
              "      <th>2019-06-01</th>\n",
              "      <td>119946</td>\n",
              "      <td>119389.395546</td>\n",
              "      <td>123511.827040</td>\n",
              "      <td>125117.610239</td>\n",
              "    </tr>\n",
              "    <tr>\n",
              "      <th>2019-07-01</th>\n",
              "      <td>137735</td>\n",
              "      <td>131883.349396</td>\n",
              "      <td>137679.333062</td>\n",
              "      <td>129526.413885</td>\n",
              "    </tr>\n",
              "    <tr>\n",
              "      <th>2019-08-01</th>\n",
              "      <td>119951</td>\n",
              "      <td>117439.879777</td>\n",
              "      <td>123752.316615</td>\n",
              "      <td>125666.318949</td>\n",
              "    </tr>\n",
              "    <tr>\n",
              "      <th>2019-09-01</th>\n",
              "      <td>113933</td>\n",
              "      <td>118629.422669</td>\n",
              "      <td>124174.257203</td>\n",
              "      <td>126033.950733</td>\n",
              "    </tr>\n",
              "    <tr>\n",
              "      <th>2019-10-01</th>\n",
              "      <td>135202</td>\n",
              "      <td>143127.237904</td>\n",
              "      <td>140554.220802</td>\n",
              "      <td>131719.143913</td>\n",
              "    </tr>\n",
              "    <tr>\n",
              "      <th>2019-11-01</th>\n",
              "      <td>125161</td>\n",
              "      <td>128216.866629</td>\n",
              "      <td>132194.375215</td>\n",
              "      <td>129363.723922</td>\n",
              "    </tr>\n",
              "    <tr>\n",
              "      <th>2019-12-01</th>\n",
              "      <td>147501</td>\n",
              "      <td>151476.405793</td>\n",
              "      <td>150109.127467</td>\n",
              "      <td>140094.810948</td>\n",
              "    </tr>\n",
              "    <tr>\n",
              "      <th>2020-01-01</th>\n",
              "      <td>174991</td>\n",
              "      <td>167102.885630</td>\n",
              "      <td>167520.991363</td>\n",
              "      <td>141330.877965</td>\n",
              "    </tr>\n",
              "    <tr>\n",
              "      <th>2020-02-01</th>\n",
              "      <td>116430</td>\n",
              "      <td>118813.306616</td>\n",
              "      <td>131574.135389</td>\n",
              "      <td>125291.666429</td>\n",
              "    </tr>\n",
              "  </tbody>\n",
              "</table>\n",
              "</div>"
            ],
            "text/plain": [
              "                 y  ARIMA_Predictions  LSTM_Predictions  Prophet_Predictions\n",
              "ds                                                                          \n",
              "2019-03-01  109854      114538.221536     119725.200061        121630.326801\n",
              "2019-04-01  139030      136135.889426     138206.986727        129922.933794\n",
              "2019-05-01  113278      114385.365859     120876.386910        121583.844712\n",
              "2019-06-01  119946      119389.395546     123511.827040        125117.610239\n",
              "2019-07-01  137735      131883.349396     137679.333062        129526.413885\n",
              "2019-08-01  119951      117439.879777     123752.316615        125666.318949\n",
              "2019-09-01  113933      118629.422669     124174.257203        126033.950733\n",
              "2019-10-01  135202      143127.237904     140554.220802        131719.143913\n",
              "2019-11-01  125161      128216.866629     132194.375215        129363.723922\n",
              "2019-12-01  147501      151476.405793     150109.127467        140094.810948\n",
              "2020-01-01  174991      167102.885630     167520.991363        141330.877965\n",
              "2020-02-01  116430      118813.306616     131574.135389        125291.666429"
            ]
          },
          "metadata": {
            "tags": []
          },
          "execution_count": 59
        }
      ]
    },
    {
      "cell_type": "markdown",
      "metadata": {
        "id": "acGxW4mBYN_F"
      },
      "source": [
        "Don't forget they are just quick and basic predictions so you can improve these models with tuning and according to your data and business knowledge.\n",
        "\n",
        "<br>\n",
        "\n",
        "Thanks!"
      ]
    }
  ]
}